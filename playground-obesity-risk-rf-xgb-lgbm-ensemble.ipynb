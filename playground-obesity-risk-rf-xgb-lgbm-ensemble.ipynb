{
 "cells": [
  {
   "cell_type": "markdown",
   "id": "585afe97",
   "metadata": {
    "papermill": {
     "duration": 0.035877,
     "end_time": "2024-02-21T12:26:54.358125",
     "exception": false,
     "start_time": "2024-02-21T12:26:54.322248",
     "status": "completed"
    },
    "tags": []
   },
   "source": [
    "# Importing Libraries"
   ]
  },
  {
   "cell_type": "code",
   "execution_count": 1,
   "id": "a9d5886c",
   "metadata": {
    "_cell_guid": "b1076dfc-b9ad-4769-8c92-a6c4dae69d19",
    "_uuid": "8f2839f25d086af736a60e9eeb907d3b93b6e0e5",
    "execution": {
     "iopub.execute_input": "2024-02-21T12:26:54.432066Z",
     "iopub.status.busy": "2024-02-21T12:26:54.431487Z",
     "iopub.status.idle": "2024-02-21T12:26:59.345945Z",
     "shell.execute_reply": "2024-02-21T12:26:59.344046Z"
    },
    "papermill": {
     "duration": 4.953761,
     "end_time": "2024-02-21T12:26:59.349190",
     "exception": false,
     "start_time": "2024-02-21T12:26:54.395429",
     "status": "completed"
    },
    "tags": []
   },
   "outputs": [],
   "source": [
    "import numpy as np # linear algebra\n",
    "import pandas as pd # data processing, CSV file I/O (e.g. pd.read_csv)\n",
    "from imblearn.over_sampling import RandomOverSampler\n",
    "from sklearn.preprocessing import LabelEncoder, StandardScaler, MinMaxScaler\n",
    "import os\n",
    "import seaborn as sns\n",
    "import matplotlib.pyplot as plt\n",
    "from sklearn.model_selection import train_test_split, RandomizedSearchCV, GridSearchCV\n",
    "import warnings"
   ]
  },
  {
   "cell_type": "code",
   "execution_count": 2,
   "id": "d998a2f2",
   "metadata": {
    "execution": {
     "iopub.execute_input": "2024-02-21T12:26:59.425148Z",
     "iopub.status.busy": "2024-02-21T12:26:59.424526Z",
     "iopub.status.idle": "2024-02-21T12:26:59.431756Z",
     "shell.execute_reply": "2024-02-21T12:26:59.429752Z"
    },
    "papermill": {
     "duration": 0.048548,
     "end_time": "2024-02-21T12:26:59.435056",
     "exception": false,
     "start_time": "2024-02-21T12:26:59.386508",
     "status": "completed"
    },
    "tags": []
   },
   "outputs": [],
   "source": [
    "warnings.filterwarnings('ignore')"
   ]
  },
  {
   "cell_type": "markdown",
   "id": "1acb5a3b",
   "metadata": {
    "papermill": {
     "duration": 0.034891,
     "end_time": "2024-02-21T12:26:59.506957",
     "exception": false,
     "start_time": "2024-02-21T12:26:59.472066",
     "status": "completed"
    },
    "tags": []
   },
   "source": [
    "## 1.1 Loading Dataset"
   ]
  },
  {
   "cell_type": "code",
   "execution_count": 3,
   "id": "3af75fb3",
   "metadata": {
    "execution": {
     "iopub.execute_input": "2024-02-21T12:26:59.583883Z",
     "iopub.status.busy": "2024-02-21T12:26:59.583377Z",
     "iopub.status.idle": "2024-02-21T12:26:59.751389Z",
     "shell.execute_reply": "2024-02-21T12:26:59.749354Z"
    },
    "papermill": {
     "duration": 0.211352,
     "end_time": "2024-02-21T12:26:59.756354",
     "exception": false,
     "start_time": "2024-02-21T12:26:59.545002",
     "status": "completed"
    },
    "tags": []
   },
   "outputs": [],
   "source": [
    "df = pd.read_csv('/kaggle/input/playground-series-s4e2/train.csv')"
   ]
  },
  {
   "cell_type": "code",
   "execution_count": 4,
   "id": "176ebe64",
   "metadata": {
    "execution": {
     "iopub.execute_input": "2024-02-21T12:26:59.834736Z",
     "iopub.status.busy": "2024-02-21T12:26:59.834247Z",
     "iopub.status.idle": "2024-02-21T12:26:59.878261Z",
     "shell.execute_reply": "2024-02-21T12:26:59.876579Z"
    },
    "papermill": {
     "duration": 0.087571,
     "end_time": "2024-02-21T12:26:59.882143",
     "exception": false,
     "start_time": "2024-02-21T12:26:59.794572",
     "status": "completed"
    },
    "tags": []
   },
   "outputs": [
    {
     "data": {
      "text/html": [
       "<div>\n",
       "<style scoped>\n",
       "    .dataframe tbody tr th:only-of-type {\n",
       "        vertical-align: middle;\n",
       "    }\n",
       "\n",
       "    .dataframe tbody tr th {\n",
       "        vertical-align: top;\n",
       "    }\n",
       "\n",
       "    .dataframe thead th {\n",
       "        text-align: right;\n",
       "    }\n",
       "</style>\n",
       "<table border=\"1\" class=\"dataframe\">\n",
       "  <thead>\n",
       "    <tr style=\"text-align: right;\">\n",
       "      <th></th>\n",
       "      <th>id</th>\n",
       "      <th>Gender</th>\n",
       "      <th>Age</th>\n",
       "      <th>Height</th>\n",
       "      <th>Weight</th>\n",
       "      <th>family_history_with_overweight</th>\n",
       "      <th>FAVC</th>\n",
       "      <th>FCVC</th>\n",
       "      <th>NCP</th>\n",
       "      <th>CAEC</th>\n",
       "      <th>SMOKE</th>\n",
       "      <th>CH2O</th>\n",
       "      <th>SCC</th>\n",
       "      <th>FAF</th>\n",
       "      <th>TUE</th>\n",
       "      <th>CALC</th>\n",
       "      <th>MTRANS</th>\n",
       "      <th>NObeyesdad</th>\n",
       "    </tr>\n",
       "  </thead>\n",
       "  <tbody>\n",
       "    <tr>\n",
       "      <th>0</th>\n",
       "      <td>0</td>\n",
       "      <td>Male</td>\n",
       "      <td>24.443011</td>\n",
       "      <td>1.699998</td>\n",
       "      <td>81.669950</td>\n",
       "      <td>yes</td>\n",
       "      <td>yes</td>\n",
       "      <td>2.000000</td>\n",
       "      <td>2.983297</td>\n",
       "      <td>Sometimes</td>\n",
       "      <td>no</td>\n",
       "      <td>2.763573</td>\n",
       "      <td>no</td>\n",
       "      <td>0.000000</td>\n",
       "      <td>0.976473</td>\n",
       "      <td>Sometimes</td>\n",
       "      <td>Public_Transportation</td>\n",
       "      <td>Overweight_Level_II</td>\n",
       "    </tr>\n",
       "    <tr>\n",
       "      <th>1</th>\n",
       "      <td>1</td>\n",
       "      <td>Female</td>\n",
       "      <td>18.000000</td>\n",
       "      <td>1.560000</td>\n",
       "      <td>57.000000</td>\n",
       "      <td>yes</td>\n",
       "      <td>yes</td>\n",
       "      <td>2.000000</td>\n",
       "      <td>3.000000</td>\n",
       "      <td>Frequently</td>\n",
       "      <td>no</td>\n",
       "      <td>2.000000</td>\n",
       "      <td>no</td>\n",
       "      <td>1.000000</td>\n",
       "      <td>1.000000</td>\n",
       "      <td>no</td>\n",
       "      <td>Automobile</td>\n",
       "      <td>Normal_Weight</td>\n",
       "    </tr>\n",
       "    <tr>\n",
       "      <th>2</th>\n",
       "      <td>2</td>\n",
       "      <td>Female</td>\n",
       "      <td>18.000000</td>\n",
       "      <td>1.711460</td>\n",
       "      <td>50.165754</td>\n",
       "      <td>yes</td>\n",
       "      <td>yes</td>\n",
       "      <td>1.880534</td>\n",
       "      <td>1.411685</td>\n",
       "      <td>Sometimes</td>\n",
       "      <td>no</td>\n",
       "      <td>1.910378</td>\n",
       "      <td>no</td>\n",
       "      <td>0.866045</td>\n",
       "      <td>1.673584</td>\n",
       "      <td>no</td>\n",
       "      <td>Public_Transportation</td>\n",
       "      <td>Insufficient_Weight</td>\n",
       "    </tr>\n",
       "    <tr>\n",
       "      <th>3</th>\n",
       "      <td>3</td>\n",
       "      <td>Female</td>\n",
       "      <td>20.952737</td>\n",
       "      <td>1.710730</td>\n",
       "      <td>131.274851</td>\n",
       "      <td>yes</td>\n",
       "      <td>yes</td>\n",
       "      <td>3.000000</td>\n",
       "      <td>3.000000</td>\n",
       "      <td>Sometimes</td>\n",
       "      <td>no</td>\n",
       "      <td>1.674061</td>\n",
       "      <td>no</td>\n",
       "      <td>1.467863</td>\n",
       "      <td>0.780199</td>\n",
       "      <td>Sometimes</td>\n",
       "      <td>Public_Transportation</td>\n",
       "      <td>Obesity_Type_III</td>\n",
       "    </tr>\n",
       "    <tr>\n",
       "      <th>4</th>\n",
       "      <td>4</td>\n",
       "      <td>Male</td>\n",
       "      <td>31.641081</td>\n",
       "      <td>1.914186</td>\n",
       "      <td>93.798055</td>\n",
       "      <td>yes</td>\n",
       "      <td>yes</td>\n",
       "      <td>2.679664</td>\n",
       "      <td>1.971472</td>\n",
       "      <td>Sometimes</td>\n",
       "      <td>no</td>\n",
       "      <td>1.979848</td>\n",
       "      <td>no</td>\n",
       "      <td>1.967973</td>\n",
       "      <td>0.931721</td>\n",
       "      <td>Sometimes</td>\n",
       "      <td>Public_Transportation</td>\n",
       "      <td>Overweight_Level_II</td>\n",
       "    </tr>\n",
       "  </tbody>\n",
       "</table>\n",
       "</div>"
      ],
      "text/plain": [
       "   id  Gender        Age    Height      Weight family_history_with_overweight  \\\n",
       "0   0    Male  24.443011  1.699998   81.669950                            yes   \n",
       "1   1  Female  18.000000  1.560000   57.000000                            yes   \n",
       "2   2  Female  18.000000  1.711460   50.165754                            yes   \n",
       "3   3  Female  20.952737  1.710730  131.274851                            yes   \n",
       "4   4    Male  31.641081  1.914186   93.798055                            yes   \n",
       "\n",
       "  FAVC      FCVC       NCP        CAEC SMOKE      CH2O SCC       FAF  \\\n",
       "0  yes  2.000000  2.983297   Sometimes    no  2.763573  no  0.000000   \n",
       "1  yes  2.000000  3.000000  Frequently    no  2.000000  no  1.000000   \n",
       "2  yes  1.880534  1.411685   Sometimes    no  1.910378  no  0.866045   \n",
       "3  yes  3.000000  3.000000   Sometimes    no  1.674061  no  1.467863   \n",
       "4  yes  2.679664  1.971472   Sometimes    no  1.979848  no  1.967973   \n",
       "\n",
       "        TUE       CALC                 MTRANS           NObeyesdad  \n",
       "0  0.976473  Sometimes  Public_Transportation  Overweight_Level_II  \n",
       "1  1.000000         no             Automobile        Normal_Weight  \n",
       "2  1.673584         no  Public_Transportation  Insufficient_Weight  \n",
       "3  0.780199  Sometimes  Public_Transportation     Obesity_Type_III  \n",
       "4  0.931721  Sometimes  Public_Transportation  Overweight_Level_II  "
      ]
     },
     "execution_count": 4,
     "metadata": {},
     "output_type": "execute_result"
    }
   ],
   "source": [
    "df.head()"
   ]
  },
  {
   "cell_type": "code",
   "execution_count": 5,
   "id": "34bafbe5",
   "metadata": {
    "execution": {
     "iopub.execute_input": "2024-02-21T12:26:59.965284Z",
     "iopub.status.busy": "2024-02-21T12:26:59.963444Z",
     "iopub.status.idle": "2024-02-21T12:26:59.983995Z",
     "shell.execute_reply": "2024-02-21T12:26:59.982449Z"
    },
    "papermill": {
     "duration": 0.06459,
     "end_time": "2024-02-21T12:26:59.986877",
     "exception": false,
     "start_time": "2024-02-21T12:26:59.922287",
     "status": "completed"
    },
    "tags": []
   },
   "outputs": [
    {
     "data": {
      "text/plain": [
       "array(['Overweight_Level_II', 'Normal_Weight', 'Insufficient_Weight',\n",
       "       'Obesity_Type_III', 'Obesity_Type_II', 'Overweight_Level_I',\n",
       "       'Obesity_Type_I'], dtype=object)"
      ]
     },
     "execution_count": 5,
     "metadata": {},
     "output_type": "execute_result"
    }
   ],
   "source": [
    "df['NObeyesdad'].unique()"
   ]
  },
  {
   "cell_type": "markdown",
   "id": "a73b60ee",
   "metadata": {
    "papermill": {
     "duration": 0.037942,
     "end_time": "2024-02-21T12:27:00.062711",
     "exception": false,
     "start_time": "2024-02-21T12:27:00.024769",
     "status": "completed"
    },
    "tags": []
   },
   "source": [
    "##  1.2 Handling Imbalanced Dataset"
   ]
  },
  {
   "cell_type": "code",
   "execution_count": 6,
   "id": "14e1b62d",
   "metadata": {
    "execution": {
     "iopub.execute_input": "2024-02-21T12:27:00.143194Z",
     "iopub.status.busy": "2024-02-21T12:27:00.141307Z",
     "iopub.status.idle": "2024-02-21T12:27:00.841258Z",
     "shell.execute_reply": "2024-02-21T12:27:00.838674Z"
    },
    "papermill": {
     "duration": 0.74195,
     "end_time": "2024-02-21T12:27:00.844919",
     "exception": false,
     "start_time": "2024-02-21T12:27:00.102969",
     "status": "completed"
    },
    "tags": []
   },
   "outputs": [
    {
     "data": {
      "text/plain": [
       "<Axes: xlabel='NObeyesdad', ylabel='count'>"
      ]
     },
     "execution_count": 6,
     "metadata": {},
     "output_type": "execute_result"
    },
    {
     "data": {
      "image/png": "[encoded data removed]",
      "text/plain": [
       "<Figure size 1500x1500 with 1 Axes>"
      ]
     },
     "metadata": {},
     "output_type": "display_data"
    }
   ],
   "source": [
    "sns.set(rc={'figure.figsize':(15,15)})\n",
    "sns.countplot(data = df , x = 'NObeyesdad')"
   ]
  },
  {
   "cell_type": "code",
   "execution_count": 7,
   "id": "c19e6529",
   "metadata": {
    "execution": {
     "iopub.execute_input": "2024-02-21T12:27:00.925763Z",
     "iopub.status.busy": "2024-02-21T12:27:00.925134Z",
     "iopub.status.idle": "2024-02-21T12:27:01.129779Z",
     "shell.execute_reply": "2024-02-21T12:27:01.127768Z"
    },
    "papermill": {
     "duration": 0.251432,
     "end_time": "2024-02-21T12:27:01.134040",
     "exception": false,
     "start_time": "2024-02-21T12:27:00.882608",
     "status": "completed"
    },
    "tags": []
   },
   "outputs": [],
   "source": [
    "ros = RandomOverSampler(random_state= 24)\n",
    "X,y = ros.fit_resample(df.drop(['NObeyesdad'],axis = 1),df['NObeyesdad'])"
   ]
  },
  {
   "cell_type": "code",
   "execution_count": 8,
   "id": "327c8745",
   "metadata": {
    "execution": {
     "iopub.execute_input": "2024-02-21T12:27:01.300873Z",
     "iopub.status.busy": "2024-02-21T12:27:01.299081Z",
     "iopub.status.idle": "2024-02-21T12:27:01.307731Z",
     "shell.execute_reply": "2024-02-21T12:27:01.306006Z"
    },
    "papermill": {
     "duration": 0.140405,
     "end_time": "2024-02-21T12:27:01.311791",
     "exception": false,
     "start_time": "2024-02-21T12:27:01.171386",
     "status": "completed"
    },
    "tags": []
   },
   "outputs": [],
   "source": [
    "df_resampled = X\n",
    "df_resampled['NObeyesdad'] = y"
   ]
  },
  {
   "cell_type": "code",
   "execution_count": 9,
   "id": "2cbdfda5",
   "metadata": {
    "execution": {
     "iopub.execute_input": "2024-02-21T12:27:01.394039Z",
     "iopub.status.busy": "2024-02-21T12:27:01.392487Z",
     "iopub.status.idle": "2024-02-21T12:27:01.433922Z",
     "shell.execute_reply": "2024-02-21T12:27:01.432009Z"
    },
    "papermill": {
     "duration": 0.087063,
     "end_time": "2024-02-21T12:27:01.438449",
     "exception": false,
     "start_time": "2024-02-21T12:27:01.351386",
     "status": "completed"
    },
    "tags": []
   },
   "outputs": [
    {
     "data": {
      "text/html": [
       "<div>\n",
       "<style scoped>\n",
       "    .dataframe tbody tr th:only-of-type {\n",
       "        vertical-align: middle;\n",
       "    }\n",
       "\n",
       "    .dataframe tbody tr th {\n",
       "        vertical-align: top;\n",
       "    }\n",
       "\n",
       "    .dataframe thead th {\n",
       "        text-align: right;\n",
       "    }\n",
       "</style>\n",
       "<table border=\"1\" class=\"dataframe\">\n",
       "  <thead>\n",
       "    <tr style=\"text-align: right;\">\n",
       "      <th></th>\n",
       "      <th>id</th>\n",
       "      <th>Gender</th>\n",
       "      <th>Age</th>\n",
       "      <th>Height</th>\n",
       "      <th>Weight</th>\n",
       "      <th>family_history_with_overweight</th>\n",
       "      <th>FAVC</th>\n",
       "      <th>FCVC</th>\n",
       "      <th>NCP</th>\n",
       "      <th>CAEC</th>\n",
       "      <th>SMOKE</th>\n",
       "      <th>CH2O</th>\n",
       "      <th>SCC</th>\n",
       "      <th>FAF</th>\n",
       "      <th>TUE</th>\n",
       "      <th>CALC</th>\n",
       "      <th>MTRANS</th>\n",
       "      <th>NObeyesdad</th>\n",
       "    </tr>\n",
       "  </thead>\n",
       "  <tbody>\n",
       "    <tr>\n",
       "      <th>0</th>\n",
       "      <td>0</td>\n",
       "      <td>Male</td>\n",
       "      <td>24.443011</td>\n",
       "      <td>1.699998</td>\n",
       "      <td>81.669950</td>\n",
       "      <td>yes</td>\n",
       "      <td>yes</td>\n",
       "      <td>2.000000</td>\n",
       "      <td>2.983297</td>\n",
       "      <td>Sometimes</td>\n",
       "      <td>no</td>\n",
       "      <td>2.763573</td>\n",
       "      <td>no</td>\n",
       "      <td>0.000000</td>\n",
       "      <td>0.976473</td>\n",
       "      <td>Sometimes</td>\n",
       "      <td>Public_Transportation</td>\n",
       "      <td>Overweight_Level_II</td>\n",
       "    </tr>\n",
       "    <tr>\n",
       "      <th>1</th>\n",
       "      <td>1</td>\n",
       "      <td>Female</td>\n",
       "      <td>18.000000</td>\n",
       "      <td>1.560000</td>\n",
       "      <td>57.000000</td>\n",
       "      <td>yes</td>\n",
       "      <td>yes</td>\n",
       "      <td>2.000000</td>\n",
       "      <td>3.000000</td>\n",
       "      <td>Frequently</td>\n",
       "      <td>no</td>\n",
       "      <td>2.000000</td>\n",
       "      <td>no</td>\n",
       "      <td>1.000000</td>\n",
       "      <td>1.000000</td>\n",
       "      <td>no</td>\n",
       "      <td>Automobile</td>\n",
       "      <td>Normal_Weight</td>\n",
       "    </tr>\n",
       "    <tr>\n",
       "      <th>2</th>\n",
       "      <td>2</td>\n",
       "      <td>Female</td>\n",
       "      <td>18.000000</td>\n",
       "      <td>1.711460</td>\n",
       "      <td>50.165754</td>\n",
       "      <td>yes</td>\n",
       "      <td>yes</td>\n",
       "      <td>1.880534</td>\n",
       "      <td>1.411685</td>\n",
       "      <td>Sometimes</td>\n",
       "      <td>no</td>\n",
       "      <td>1.910378</td>\n",
       "      <td>no</td>\n",
       "      <td>0.866045</td>\n",
       "      <td>1.673584</td>\n",
       "      <td>no</td>\n",
       "      <td>Public_Transportation</td>\n",
       "      <td>Insufficient_Weight</td>\n",
       "    </tr>\n",
       "    <tr>\n",
       "      <th>3</th>\n",
       "      <td>3</td>\n",
       "      <td>Female</td>\n",
       "      <td>20.952737</td>\n",
       "      <td>1.710730</td>\n",
       "      <td>131.274851</td>\n",
       "      <td>yes</td>\n",
       "      <td>yes</td>\n",
       "      <td>3.000000</td>\n",
       "      <td>3.000000</td>\n",
       "      <td>Sometimes</td>\n",
       "      <td>no</td>\n",
       "      <td>1.674061</td>\n",
       "      <td>no</td>\n",
       "      <td>1.467863</td>\n",
       "      <td>0.780199</td>\n",
       "      <td>Sometimes</td>\n",
       "      <td>Public_Transportation</td>\n",
       "      <td>Obesity_Type_III</td>\n",
       "    </tr>\n",
       "    <tr>\n",
       "      <th>4</th>\n",
       "      <td>4</td>\n",
       "      <td>Male</td>\n",
       "      <td>31.641081</td>\n",
       "      <td>1.914186</td>\n",
       "      <td>93.798055</td>\n",
       "      <td>yes</td>\n",
       "      <td>yes</td>\n",
       "      <td>2.679664</td>\n",
       "      <td>1.971472</td>\n",
       "      <td>Sometimes</td>\n",
       "      <td>no</td>\n",
       "      <td>1.979848</td>\n",
       "      <td>no</td>\n",
       "      <td>1.967973</td>\n",
       "      <td>0.931721</td>\n",
       "      <td>Sometimes</td>\n",
       "      <td>Public_Transportation</td>\n",
       "      <td>Overweight_Level_II</td>\n",
       "    </tr>\n",
       "    <tr>\n",
       "      <th>...</th>\n",
       "      <td>...</td>\n",
       "      <td>...</td>\n",
       "      <td>...</td>\n",
       "      <td>...</td>\n",
       "      <td>...</td>\n",
       "      <td>...</td>\n",
       "      <td>...</td>\n",
       "      <td>...</td>\n",
       "      <td>...</td>\n",
       "      <td>...</td>\n",
       "      <td>...</td>\n",
       "      <td>...</td>\n",
       "      <td>...</td>\n",
       "      <td>...</td>\n",
       "      <td>...</td>\n",
       "      <td>...</td>\n",
       "      <td>...</td>\n",
       "      <td>...</td>\n",
       "    </tr>\n",
       "    <tr>\n",
       "      <th>28317</th>\n",
       "      <td>4781</td>\n",
       "      <td>Male</td>\n",
       "      <td>17.000000</td>\n",
       "      <td>1.800000</td>\n",
       "      <td>85.000000</td>\n",
       "      <td>no</td>\n",
       "      <td>yes</td>\n",
       "      <td>2.000000</td>\n",
       "      <td>3.000000</td>\n",
       "      <td>Frequently</td>\n",
       "      <td>no</td>\n",
       "      <td>2.000000</td>\n",
       "      <td>no</td>\n",
       "      <td>1.000000</td>\n",
       "      <td>1.000000</td>\n",
       "      <td>Sometimes</td>\n",
       "      <td>Public_Transportation</td>\n",
       "      <td>Overweight_Level_II</td>\n",
       "    </tr>\n",
       "    <tr>\n",
       "      <th>28318</th>\n",
       "      <td>17049</td>\n",
       "      <td>Male</td>\n",
       "      <td>21.000000</td>\n",
       "      <td>1.700000</td>\n",
       "      <td>80.000000</td>\n",
       "      <td>yes</td>\n",
       "      <td>yes</td>\n",
       "      <td>2.000000</td>\n",
       "      <td>3.000000</td>\n",
       "      <td>Sometimes</td>\n",
       "      <td>no</td>\n",
       "      <td>3.000000</td>\n",
       "      <td>no</td>\n",
       "      <td>1.000000</td>\n",
       "      <td>1.000000</td>\n",
       "      <td>no</td>\n",
       "      <td>Public_Transportation</td>\n",
       "      <td>Overweight_Level_II</td>\n",
       "    </tr>\n",
       "    <tr>\n",
       "      <th>28319</th>\n",
       "      <td>14051</td>\n",
       "      <td>Male</td>\n",
       "      <td>17.000000</td>\n",
       "      <td>1.700000</td>\n",
       "      <td>83.000000</td>\n",
       "      <td>yes</td>\n",
       "      <td>no</td>\n",
       "      <td>2.000000</td>\n",
       "      <td>4.000000</td>\n",
       "      <td>Frequently</td>\n",
       "      <td>no</td>\n",
       "      <td>2.000000</td>\n",
       "      <td>no</td>\n",
       "      <td>1.000000</td>\n",
       "      <td>1.000000</td>\n",
       "      <td>no</td>\n",
       "      <td>Walking</td>\n",
       "      <td>Overweight_Level_II</td>\n",
       "    </tr>\n",
       "    <tr>\n",
       "      <th>28320</th>\n",
       "      <td>9634</td>\n",
       "      <td>Male</td>\n",
       "      <td>19.149706</td>\n",
       "      <td>1.699437</td>\n",
       "      <td>78.000000</td>\n",
       "      <td>yes</td>\n",
       "      <td>yes</td>\n",
       "      <td>2.000000</td>\n",
       "      <td>2.070033</td>\n",
       "      <td>Sometimes</td>\n",
       "      <td>no</td>\n",
       "      <td>2.000000</td>\n",
       "      <td>no</td>\n",
       "      <td>0.000000</td>\n",
       "      <td>1.639326</td>\n",
       "      <td>no</td>\n",
       "      <td>Public_Transportation</td>\n",
       "      <td>Overweight_Level_II</td>\n",
       "    </tr>\n",
       "    <tr>\n",
       "      <th>28321</th>\n",
       "      <td>2119</td>\n",
       "      <td>Male</td>\n",
       "      <td>33.270448</td>\n",
       "      <td>1.713348</td>\n",
       "      <td>84.753830</td>\n",
       "      <td>yes</td>\n",
       "      <td>yes</td>\n",
       "      <td>2.000000</td>\n",
       "      <td>3.000000</td>\n",
       "      <td>Sometimes</td>\n",
       "      <td>no</td>\n",
       "      <td>1.880967</td>\n",
       "      <td>no</td>\n",
       "      <td>0.000000</td>\n",
       "      <td>0.178301</td>\n",
       "      <td>no</td>\n",
       "      <td>Automobile</td>\n",
       "      <td>Overweight_Level_II</td>\n",
       "    </tr>\n",
       "  </tbody>\n",
       "</table>\n",
       "<p>28322 rows × 18 columns</p>\n",
       "</div>"
      ],
      "text/plain": [
       "          id  Gender        Age    Height      Weight  \\\n",
       "0          0    Male  24.443011  1.699998   81.669950   \n",
       "1          1  Female  18.000000  1.560000   57.000000   \n",
       "2          2  Female  18.000000  1.711460   50.165754   \n",
       "3          3  Female  20.952737  1.710730  131.274851   \n",
       "4          4    Male  31.641081  1.914186   93.798055   \n",
       "...      ...     ...        ...       ...         ...   \n",
       "28317   4781    Male  17.000000  1.800000   85.000000   \n",
       "28318  17049    Male  21.000000  1.700000   80.000000   \n",
       "28319  14051    Male  17.000000  1.700000   83.000000   \n",
       "28320   9634    Male  19.149706  1.699437   78.000000   \n",
       "28321   2119    Male  33.270448  1.713348   84.753830   \n",
       "\n",
       "      family_history_with_overweight FAVC      FCVC       NCP        CAEC  \\\n",
       "0                                yes  yes  2.000000  2.983297   Sometimes   \n",
       "1                                yes  yes  2.000000  3.000000  Frequently   \n",
       "2                                yes  yes  1.880534  1.411685   Sometimes   \n",
       "3                                yes  yes  3.000000  3.000000   Sometimes   \n",
       "4                                yes  yes  2.679664  1.971472   Sometimes   \n",
       "...                              ...  ...       ...       ...         ...   \n",
       "28317                             no  yes  2.000000  3.000000  Frequently   \n",
       "28318                            yes  yes  2.000000  3.000000   Sometimes   \n",
       "28319                            yes   no  2.000000  4.000000  Frequently   \n",
       "28320                            yes  yes  2.000000  2.070033   Sometimes   \n",
       "28321                            yes  yes  2.000000  3.000000   Sometimes   \n",
       "\n",
       "      SMOKE      CH2O SCC       FAF       TUE       CALC  \\\n",
       "0        no  2.763573  no  0.000000  0.976473  Sometimes   \n",
       "1        no  2.000000  no  1.000000  1.000000         no   \n",
       "2        no  1.910378  no  0.866045  1.673584         no   \n",
       "3        no  1.674061  no  1.467863  0.780199  Sometimes   \n",
       "4        no  1.979848  no  1.967973  0.931721  Sometimes   \n",
       "...     ...       ...  ..       ...       ...        ...   \n",
       "28317    no  2.000000  no  1.000000  1.000000  Sometimes   \n",
       "28318    no  3.000000  no  1.000000  1.000000         no   \n",
       "28319    no  2.000000  no  1.000000  1.000000         no   \n",
       "28320    no  2.000000  no  0.000000  1.639326         no   \n",
       "28321    no  1.880967  no  0.000000  0.178301         no   \n",
       "\n",
       "                      MTRANS           NObeyesdad  \n",
       "0      Public_Transportation  Overweight_Level_II  \n",
       "1                 Automobile        Normal_Weight  \n",
       "2      Public_Transportation  Insufficient_Weight  \n",
       "3      Public_Transportation     Obesity_Type_III  \n",
       "4      Public_Transportation  Overweight_Level_II  \n",
       "...                      ...                  ...  \n",
       "28317  Public_Transportation  Overweight_Level_II  \n",
       "28318  Public_Transportation  Overweight_Level_II  \n",
       "28319                Walking  Overweight_Level_II  \n",
       "28320  Public_Transportation  Overweight_Level_II  \n",
       "28321             Automobile  Overweight_Level_II  \n",
       "\n",
       "[28322 rows x 18 columns]"
      ]
     },
     "execution_count": 9,
     "metadata": {},
     "output_type": "execute_result"
    }
   ],
   "source": [
    "df_resampled"
   ]
  },
  {
   "cell_type": "code",
   "execution_count": 10,
   "id": "1ff32447",
   "metadata": {
    "execution": {
     "iopub.execute_input": "2024-02-21T12:27:01.521729Z",
     "iopub.status.busy": "2024-02-21T12:27:01.521194Z",
     "iopub.status.idle": "2024-02-21T12:27:02.116466Z",
     "shell.execute_reply": "2024-02-21T12:27:02.114338Z"
    },
    "papermill": {
     "duration": 0.6408,
     "end_time": "2024-02-21T12:27:02.120597",
     "exception": false,
     "start_time": "2024-02-21T12:27:01.479797",
     "status": "completed"
    },
    "tags": []
   },
   "outputs": [
    {
     "data": {
      "text/plain": [
       "<Axes: xlabel='NObeyesdad', ylabel='count'>"
      ]
     },
     "execution_count": 10,
     "metadata": {},
     "output_type": "execute_result"
    },
    {
     "data": {
      "image/png": "[encoded data removed]",
      "text/plain": [
       "<Figure size 1500x1500 with 1 Axes>"
      ]
     },
     "metadata": {},
     "output_type": "display_data"
    }
   ],
   "source": [
    "sns.countplot(data = df_resampled , x = 'NObeyesdad')"
   ]
  },
  {
   "cell_type": "code",
   "execution_count": 11,
   "id": "e35780b5",
   "metadata": {
    "execution": {
     "iopub.execute_input": "2024-02-21T12:27:02.202634Z",
     "iopub.status.busy": "2024-02-21T12:27:02.202153Z",
     "iopub.status.idle": "2024-02-21T12:27:02.309785Z",
     "shell.execute_reply": "2024-02-21T12:27:02.308503Z"
    },
    "papermill": {
     "duration": 0.152063,
     "end_time": "2024-02-21T12:27:02.313910",
     "exception": false,
     "start_time": "2024-02-21T12:27:02.161847",
     "status": "completed"
    },
    "tags": []
   },
   "outputs": [
    {
     "data": {
      "text/html": [
       "<div>\n",
       "<style scoped>\n",
       "    .dataframe tbody tr th:only-of-type {\n",
       "        vertical-align: middle;\n",
       "    }\n",
       "\n",
       "    .dataframe tbody tr th {\n",
       "        vertical-align: top;\n",
       "    }\n",
       "\n",
       "    .dataframe thead th {\n",
       "        text-align: right;\n",
       "    }\n",
       "</style>\n",
       "<table border=\"1\" class=\"dataframe\">\n",
       "  <thead>\n",
       "    <tr style=\"text-align: right;\">\n",
       "      <th></th>\n",
       "      <th>id</th>\n",
       "      <th>Gender</th>\n",
       "      <th>Age</th>\n",
       "      <th>Height</th>\n",
       "      <th>Weight</th>\n",
       "      <th>family_history_with_overweight</th>\n",
       "      <th>FAVC</th>\n",
       "      <th>FCVC</th>\n",
       "      <th>NCP</th>\n",
       "      <th>CAEC</th>\n",
       "      <th>SMOKE</th>\n",
       "      <th>CH2O</th>\n",
       "      <th>SCC</th>\n",
       "      <th>FAF</th>\n",
       "      <th>TUE</th>\n",
       "      <th>CALC</th>\n",
       "      <th>MTRANS</th>\n",
       "    </tr>\n",
       "  </thead>\n",
       "  <tbody>\n",
       "    <tr>\n",
       "      <th>0</th>\n",
       "      <td>20758</td>\n",
       "      <td>Male</td>\n",
       "      <td>26.899886</td>\n",
       "      <td>1.848294</td>\n",
       "      <td>120.644178</td>\n",
       "      <td>yes</td>\n",
       "      <td>yes</td>\n",
       "      <td>2.938616</td>\n",
       "      <td>3.000000</td>\n",
       "      <td>Sometimes</td>\n",
       "      <td>no</td>\n",
       "      <td>2.825629</td>\n",
       "      <td>no</td>\n",
       "      <td>0.855400</td>\n",
       "      <td>0.000000</td>\n",
       "      <td>Sometimes</td>\n",
       "      <td>Public_Transportation</td>\n",
       "    </tr>\n",
       "    <tr>\n",
       "      <th>1</th>\n",
       "      <td>20759</td>\n",
       "      <td>Female</td>\n",
       "      <td>21.000000</td>\n",
       "      <td>1.600000</td>\n",
       "      <td>66.000000</td>\n",
       "      <td>yes</td>\n",
       "      <td>yes</td>\n",
       "      <td>2.000000</td>\n",
       "      <td>1.000000</td>\n",
       "      <td>Sometimes</td>\n",
       "      <td>no</td>\n",
       "      <td>3.000000</td>\n",
       "      <td>no</td>\n",
       "      <td>1.000000</td>\n",
       "      <td>0.000000</td>\n",
       "      <td>Sometimes</td>\n",
       "      <td>Public_Transportation</td>\n",
       "    </tr>\n",
       "    <tr>\n",
       "      <th>2</th>\n",
       "      <td>20760</td>\n",
       "      <td>Female</td>\n",
       "      <td>26.000000</td>\n",
       "      <td>1.643355</td>\n",
       "      <td>111.600553</td>\n",
       "      <td>yes</td>\n",
       "      <td>yes</td>\n",
       "      <td>3.000000</td>\n",
       "      <td>3.000000</td>\n",
       "      <td>Sometimes</td>\n",
       "      <td>no</td>\n",
       "      <td>2.621877</td>\n",
       "      <td>no</td>\n",
       "      <td>0.000000</td>\n",
       "      <td>0.250502</td>\n",
       "      <td>Sometimes</td>\n",
       "      <td>Public_Transportation</td>\n",
       "    </tr>\n",
       "    <tr>\n",
       "      <th>3</th>\n",
       "      <td>20761</td>\n",
       "      <td>Male</td>\n",
       "      <td>20.979254</td>\n",
       "      <td>1.553127</td>\n",
       "      <td>103.669116</td>\n",
       "      <td>yes</td>\n",
       "      <td>yes</td>\n",
       "      <td>2.000000</td>\n",
       "      <td>2.977909</td>\n",
       "      <td>Sometimes</td>\n",
       "      <td>no</td>\n",
       "      <td>2.786417</td>\n",
       "      <td>no</td>\n",
       "      <td>0.094851</td>\n",
       "      <td>0.000000</td>\n",
       "      <td>Sometimes</td>\n",
       "      <td>Public_Transportation</td>\n",
       "    </tr>\n",
       "    <tr>\n",
       "      <th>4</th>\n",
       "      <td>20762</td>\n",
       "      <td>Female</td>\n",
       "      <td>26.000000</td>\n",
       "      <td>1.627396</td>\n",
       "      <td>104.835346</td>\n",
       "      <td>yes</td>\n",
       "      <td>yes</td>\n",
       "      <td>3.000000</td>\n",
       "      <td>3.000000</td>\n",
       "      <td>Sometimes</td>\n",
       "      <td>no</td>\n",
       "      <td>2.653531</td>\n",
       "      <td>no</td>\n",
       "      <td>0.000000</td>\n",
       "      <td>0.741069</td>\n",
       "      <td>Sometimes</td>\n",
       "      <td>Public_Transportation</td>\n",
       "    </tr>\n",
       "  </tbody>\n",
       "</table>\n",
       "</div>"
      ],
      "text/plain": [
       "      id  Gender        Age    Height      Weight  \\\n",
       "0  20758    Male  26.899886  1.848294  120.644178   \n",
       "1  20759  Female  21.000000  1.600000   66.000000   \n",
       "2  20760  Female  26.000000  1.643355  111.600553   \n",
       "3  20761    Male  20.979254  1.553127  103.669116   \n",
       "4  20762  Female  26.000000  1.627396  104.835346   \n",
       "\n",
       "  family_history_with_overweight FAVC      FCVC       NCP       CAEC SMOKE  \\\n",
       "0                            yes  yes  2.938616  3.000000  Sometimes    no   \n",
       "1                            yes  yes  2.000000  1.000000  Sometimes    no   \n",
       "2                            yes  yes  3.000000  3.000000  Sometimes    no   \n",
       "3                            yes  yes  2.000000  2.977909  Sometimes    no   \n",
       "4                            yes  yes  3.000000  3.000000  Sometimes    no   \n",
       "\n",
       "       CH2O SCC       FAF       TUE       CALC                 MTRANS  \n",
       "0  2.825629  no  0.855400  0.000000  Sometimes  Public_Transportation  \n",
       "1  3.000000  no  1.000000  0.000000  Sometimes  Public_Transportation  \n",
       "2  2.621877  no  0.000000  0.250502  Sometimes  Public_Transportation  \n",
       "3  2.786417  no  0.094851  0.000000  Sometimes  Public_Transportation  \n",
       "4  2.653531  no  0.000000  0.741069  Sometimes  Public_Transportation  "
      ]
     },
     "execution_count": 11,
     "metadata": {},
     "output_type": "execute_result"
    }
   ],
   "source": [
    "test_df = pd.read_csv('/kaggle/input/playground-series-s4e2/test.csv')\n",
    "test_df.head()"
   ]
  },
  {
   "cell_type": "markdown",
   "id": "cfb3b0cc",
   "metadata": {
    "papermill": {
     "duration": 0.038796,
     "end_time": "2024-02-21T12:27:02.397500",
     "exception": false,
     "start_time": "2024-02-21T12:27:02.358704",
     "status": "completed"
    },
    "tags": []
   },
   "source": [
    "## 1.3 Handling Categorical Features "
   ]
  },
  {
   "cell_type": "code",
   "execution_count": 12,
   "id": "79bd0b21",
   "metadata": {
    "execution": {
     "iopub.execute_input": "2024-02-21T12:27:02.484114Z",
     "iopub.status.busy": "2024-02-21T12:27:02.483554Z",
     "iopub.status.idle": "2024-02-21T12:27:02.635119Z",
     "shell.execute_reply": "2024-02-21T12:27:02.633448Z"
    },
    "papermill": {
     "duration": 0.199187,
     "end_time": "2024-02-21T12:27:02.639370",
     "exception": false,
     "start_time": "2024-02-21T12:27:02.440183",
     "status": "completed"
    },
    "tags": []
   },
   "outputs": [],
   "source": [
    "categorical_features = df_resampled.select_dtypes('object').columns\n",
    "\n",
    "# CAEC and CALC from categorical as CALC in train.csv missing 'always' in unique elements\n",
    "categorical_features = np.delete(categorical_features,6)\n",
    "\n",
    "le = LabelEncoder() \n",
    "for feature_name in categorical_features:\n",
    "    df_resampled[feature_name] = le.fit_transform(df_resampled[feature_name])\n",
    "    try:\n",
    "        test_df[feature_name] = le.transform(test_df[feature_name])\n",
    "    except:\n",
    "        continue\n",
    "    if feature_name == 'CAEC':\n",
    "        df_resampled['CALC']  = le.transform(df_resampled['CALC'])\n",
    "        test_df['CALC'] = le.transform(test_df['CALC'])"
   ]
  },
  {
   "cell_type": "code",
   "execution_count": 13,
   "id": "968a381b",
   "metadata": {
    "execution": {
     "iopub.execute_input": "2024-02-21T12:27:02.736525Z",
     "iopub.status.busy": "2024-02-21T12:27:02.734582Z",
     "iopub.status.idle": "2024-02-21T12:27:02.776502Z",
     "shell.execute_reply": "2024-02-21T12:27:02.773575Z"
    },
    "papermill": {
     "duration": 0.102414,
     "end_time": "2024-02-21T12:27:02.785913",
     "exception": false,
     "start_time": "2024-02-21T12:27:02.683499",
     "status": "completed"
    },
    "tags": []
   },
   "outputs": [
    {
     "data": {
      "text/html": [
       "<div>\n",
       "<style scoped>\n",
       "    .dataframe tbody tr th:only-of-type {\n",
       "        vertical-align: middle;\n",
       "    }\n",
       "\n",
       "    .dataframe tbody tr th {\n",
       "        vertical-align: top;\n",
       "    }\n",
       "\n",
       "    .dataframe thead th {\n",
       "        text-align: right;\n",
       "    }\n",
       "</style>\n",
       "<table border=\"1\" class=\"dataframe\">\n",
       "  <thead>\n",
       "    <tr style=\"text-align: right;\">\n",
       "      <th></th>\n",
       "      <th>id</th>\n",
       "      <th>Gender</th>\n",
       "      <th>Age</th>\n",
       "      <th>Height</th>\n",
       "      <th>Weight</th>\n",
       "      <th>family_history_with_overweight</th>\n",
       "      <th>FAVC</th>\n",
       "      <th>FCVC</th>\n",
       "      <th>NCP</th>\n",
       "      <th>CAEC</th>\n",
       "      <th>SMOKE</th>\n",
       "      <th>CH2O</th>\n",
       "      <th>SCC</th>\n",
       "      <th>FAF</th>\n",
       "      <th>TUE</th>\n",
       "      <th>CALC</th>\n",
       "      <th>MTRANS</th>\n",
       "      <th>NObeyesdad</th>\n",
       "    </tr>\n",
       "  </thead>\n",
       "  <tbody>\n",
       "    <tr>\n",
       "      <th>0</th>\n",
       "      <td>0</td>\n",
       "      <td>1</td>\n",
       "      <td>24.443011</td>\n",
       "      <td>1.699998</td>\n",
       "      <td>81.669950</td>\n",
       "      <td>1</td>\n",
       "      <td>1</td>\n",
       "      <td>2.000000</td>\n",
       "      <td>2.983297</td>\n",
       "      <td>2</td>\n",
       "      <td>0</td>\n",
       "      <td>2.763573</td>\n",
       "      <td>0</td>\n",
       "      <td>0.000000</td>\n",
       "      <td>0.976473</td>\n",
       "      <td>2</td>\n",
       "      <td>3</td>\n",
       "      <td>6</td>\n",
       "    </tr>\n",
       "    <tr>\n",
       "      <th>1</th>\n",
       "      <td>1</td>\n",
       "      <td>0</td>\n",
       "      <td>18.000000</td>\n",
       "      <td>1.560000</td>\n",
       "      <td>57.000000</td>\n",
       "      <td>1</td>\n",
       "      <td>1</td>\n",
       "      <td>2.000000</td>\n",
       "      <td>3.000000</td>\n",
       "      <td>1</td>\n",
       "      <td>0</td>\n",
       "      <td>2.000000</td>\n",
       "      <td>0</td>\n",
       "      <td>1.000000</td>\n",
       "      <td>1.000000</td>\n",
       "      <td>3</td>\n",
       "      <td>0</td>\n",
       "      <td>1</td>\n",
       "    </tr>\n",
       "    <tr>\n",
       "      <th>2</th>\n",
       "      <td>2</td>\n",
       "      <td>0</td>\n",
       "      <td>18.000000</td>\n",
       "      <td>1.711460</td>\n",
       "      <td>50.165754</td>\n",
       "      <td>1</td>\n",
       "      <td>1</td>\n",
       "      <td>1.880534</td>\n",
       "      <td>1.411685</td>\n",
       "      <td>2</td>\n",
       "      <td>0</td>\n",
       "      <td>1.910378</td>\n",
       "      <td>0</td>\n",
       "      <td>0.866045</td>\n",
       "      <td>1.673584</td>\n",
       "      <td>3</td>\n",
       "      <td>3</td>\n",
       "      <td>0</td>\n",
       "    </tr>\n",
       "    <tr>\n",
       "      <th>3</th>\n",
       "      <td>3</td>\n",
       "      <td>0</td>\n",
       "      <td>20.952737</td>\n",
       "      <td>1.710730</td>\n",
       "      <td>131.274851</td>\n",
       "      <td>1</td>\n",
       "      <td>1</td>\n",
       "      <td>3.000000</td>\n",
       "      <td>3.000000</td>\n",
       "      <td>2</td>\n",
       "      <td>0</td>\n",
       "      <td>1.674061</td>\n",
       "      <td>0</td>\n",
       "      <td>1.467863</td>\n",
       "      <td>0.780199</td>\n",
       "      <td>2</td>\n",
       "      <td>3</td>\n",
       "      <td>4</td>\n",
       "    </tr>\n",
       "    <tr>\n",
       "      <th>4</th>\n",
       "      <td>4</td>\n",
       "      <td>1</td>\n",
       "      <td>31.641081</td>\n",
       "      <td>1.914186</td>\n",
       "      <td>93.798055</td>\n",
       "      <td>1</td>\n",
       "      <td>1</td>\n",
       "      <td>2.679664</td>\n",
       "      <td>1.971472</td>\n",
       "      <td>2</td>\n",
       "      <td>0</td>\n",
       "      <td>1.979848</td>\n",
       "      <td>0</td>\n",
       "      <td>1.967973</td>\n",
       "      <td>0.931721</td>\n",
       "      <td>2</td>\n",
       "      <td>3</td>\n",
       "      <td>6</td>\n",
       "    </tr>\n",
       "  </tbody>\n",
       "</table>\n",
       "</div>"
      ],
      "text/plain": [
       "   id  Gender        Age    Height      Weight  \\\n",
       "0   0       1  24.443011  1.699998   81.669950   \n",
       "1   1       0  18.000000  1.560000   57.000000   \n",
       "2   2       0  18.000000  1.711460   50.165754   \n",
       "3   3       0  20.952737  1.710730  131.274851   \n",
       "4   4       1  31.641081  1.914186   93.798055   \n",
       "\n",
       "   family_history_with_overweight  FAVC      FCVC       NCP  CAEC  SMOKE  \\\n",
       "0                               1     1  2.000000  2.983297     2      0   \n",
       "1                               1     1  2.000000  3.000000     1      0   \n",
       "2                               1     1  1.880534  1.411685     2      0   \n",
       "3                               1     1  3.000000  3.000000     2      0   \n",
       "4                               1     1  2.679664  1.971472     2      0   \n",
       "\n",
       "       CH2O  SCC       FAF       TUE  CALC  MTRANS  NObeyesdad  \n",
       "0  2.763573    0  0.000000  0.976473     2       3           6  \n",
       "1  2.000000    0  1.000000  1.000000     3       0           1  \n",
       "2  1.910378    0  0.866045  1.673584     3       3           0  \n",
       "3  1.674061    0  1.467863  0.780199     2       3           4  \n",
       "4  1.979848    0  1.967973  0.931721     2       3           6  "
      ]
     },
     "execution_count": 13,
     "metadata": {},
     "output_type": "execute_result"
    }
   ],
   "source": [
    "df_resampled.head()"
   ]
  },
  {
   "cell_type": "code",
   "execution_count": 14,
   "id": "fef10cd2",
   "metadata": {
    "execution": {
     "iopub.execute_input": "2024-02-21T12:27:02.874564Z",
     "iopub.status.busy": "2024-02-21T12:27:02.872722Z",
     "iopub.status.idle": "2024-02-21T12:27:02.903620Z",
     "shell.execute_reply": "2024-02-21T12:27:02.902226Z"
    },
    "papermill": {
     "duration": 0.079601,
     "end_time": "2024-02-21T12:27:02.907155",
     "exception": false,
     "start_time": "2024-02-21T12:27:02.827554",
     "status": "completed"
    },
    "tags": []
   },
   "outputs": [
    {
     "data": {
      "text/html": [
       "<div>\n",
       "<style scoped>\n",
       "    .dataframe tbody tr th:only-of-type {\n",
       "        vertical-align: middle;\n",
       "    }\n",
       "\n",
       "    .dataframe tbody tr th {\n",
       "        vertical-align: top;\n",
       "    }\n",
       "\n",
       "    .dataframe thead th {\n",
       "        text-align: right;\n",
       "    }\n",
       "</style>\n",
       "<table border=\"1\" class=\"dataframe\">\n",
       "  <thead>\n",
       "    <tr style=\"text-align: right;\">\n",
       "      <th></th>\n",
       "      <th>id</th>\n",
       "      <th>Gender</th>\n",
       "      <th>Age</th>\n",
       "      <th>Height</th>\n",
       "      <th>Weight</th>\n",
       "      <th>family_history_with_overweight</th>\n",
       "      <th>FAVC</th>\n",
       "      <th>FCVC</th>\n",
       "      <th>NCP</th>\n",
       "      <th>CAEC</th>\n",
       "      <th>SMOKE</th>\n",
       "      <th>CH2O</th>\n",
       "      <th>SCC</th>\n",
       "      <th>FAF</th>\n",
       "      <th>TUE</th>\n",
       "      <th>CALC</th>\n",
       "      <th>MTRANS</th>\n",
       "    </tr>\n",
       "  </thead>\n",
       "  <tbody>\n",
       "    <tr>\n",
       "      <th>0</th>\n",
       "      <td>20758</td>\n",
       "      <td>1</td>\n",
       "      <td>26.899886</td>\n",
       "      <td>1.848294</td>\n",
       "      <td>120.644178</td>\n",
       "      <td>1</td>\n",
       "      <td>1</td>\n",
       "      <td>2.938616</td>\n",
       "      <td>3.000000</td>\n",
       "      <td>2</td>\n",
       "      <td>0</td>\n",
       "      <td>2.825629</td>\n",
       "      <td>0</td>\n",
       "      <td>0.855400</td>\n",
       "      <td>0.000000</td>\n",
       "      <td>2</td>\n",
       "      <td>3</td>\n",
       "    </tr>\n",
       "    <tr>\n",
       "      <th>1</th>\n",
       "      <td>20759</td>\n",
       "      <td>0</td>\n",
       "      <td>21.000000</td>\n",
       "      <td>1.600000</td>\n",
       "      <td>66.000000</td>\n",
       "      <td>1</td>\n",
       "      <td>1</td>\n",
       "      <td>2.000000</td>\n",
       "      <td>1.000000</td>\n",
       "      <td>2</td>\n",
       "      <td>0</td>\n",
       "      <td>3.000000</td>\n",
       "      <td>0</td>\n",
       "      <td>1.000000</td>\n",
       "      <td>0.000000</td>\n",
       "      <td>2</td>\n",
       "      <td>3</td>\n",
       "    </tr>\n",
       "    <tr>\n",
       "      <th>2</th>\n",
       "      <td>20760</td>\n",
       "      <td>0</td>\n",
       "      <td>26.000000</td>\n",
       "      <td>1.643355</td>\n",
       "      <td>111.600553</td>\n",
       "      <td>1</td>\n",
       "      <td>1</td>\n",
       "      <td>3.000000</td>\n",
       "      <td>3.000000</td>\n",
       "      <td>2</td>\n",
       "      <td>0</td>\n",
       "      <td>2.621877</td>\n",
       "      <td>0</td>\n",
       "      <td>0.000000</td>\n",
       "      <td>0.250502</td>\n",
       "      <td>2</td>\n",
       "      <td>3</td>\n",
       "    </tr>\n",
       "    <tr>\n",
       "      <th>3</th>\n",
       "      <td>20761</td>\n",
       "      <td>1</td>\n",
       "      <td>20.979254</td>\n",
       "      <td>1.553127</td>\n",
       "      <td>103.669116</td>\n",
       "      <td>1</td>\n",
       "      <td>1</td>\n",
       "      <td>2.000000</td>\n",
       "      <td>2.977909</td>\n",
       "      <td>2</td>\n",
       "      <td>0</td>\n",
       "      <td>2.786417</td>\n",
       "      <td>0</td>\n",
       "      <td>0.094851</td>\n",
       "      <td>0.000000</td>\n",
       "      <td>2</td>\n",
       "      <td>3</td>\n",
       "    </tr>\n",
       "    <tr>\n",
       "      <th>4</th>\n",
       "      <td>20762</td>\n",
       "      <td>0</td>\n",
       "      <td>26.000000</td>\n",
       "      <td>1.627396</td>\n",
       "      <td>104.835346</td>\n",
       "      <td>1</td>\n",
       "      <td>1</td>\n",
       "      <td>3.000000</td>\n",
       "      <td>3.000000</td>\n",
       "      <td>2</td>\n",
       "      <td>0</td>\n",
       "      <td>2.653531</td>\n",
       "      <td>0</td>\n",
       "      <td>0.000000</td>\n",
       "      <td>0.741069</td>\n",
       "      <td>2</td>\n",
       "      <td>3</td>\n",
       "    </tr>\n",
       "  </tbody>\n",
       "</table>\n",
       "</div>"
      ],
      "text/plain": [
       "      id  Gender        Age    Height      Weight  \\\n",
       "0  20758       1  26.899886  1.848294  120.644178   \n",
       "1  20759       0  21.000000  1.600000   66.000000   \n",
       "2  20760       0  26.000000  1.643355  111.600553   \n",
       "3  20761       1  20.979254  1.553127  103.669116   \n",
       "4  20762       0  26.000000  1.627396  104.835346   \n",
       "\n",
       "   family_history_with_overweight  FAVC      FCVC       NCP  CAEC  SMOKE  \\\n",
       "0                               1     1  2.938616  3.000000     2      0   \n",
       "1                               1     1  2.000000  1.000000     2      0   \n",
       "2                               1     1  3.000000  3.000000     2      0   \n",
       "3                               1     1  2.000000  2.977909     2      0   \n",
       "4                               1     1  3.000000  3.000000     2      0   \n",
       "\n",
       "       CH2O  SCC       FAF       TUE  CALC  MTRANS  \n",
       "0  2.825629    0  0.855400  0.000000     2       3  \n",
       "1  3.000000    0  1.000000  0.000000     2       3  \n",
       "2  2.621877    0  0.000000  0.250502     2       3  \n",
       "3  2.786417    0  0.094851  0.000000     2       3  \n",
       "4  2.653531    0  0.000000  0.741069     2       3  "
      ]
     },
     "execution_count": 14,
     "metadata": {},
     "output_type": "execute_result"
    }
   ],
   "source": [
    "test_df.head()"
   ]
  },
  {
   "cell_type": "markdown",
   "id": "87c3012a",
   "metadata": {
    "papermill": {
     "duration": 0.043105,
     "end_time": "2024-02-21T12:27:02.992945",
     "exception": false,
     "start_time": "2024-02-21T12:27:02.949840",
     "status": "completed"
    },
    "tags": []
   },
   "source": [
    "## 1.4 Removing Unwanted Rows "
   ]
  },
  {
   "cell_type": "code",
   "execution_count": 15,
   "id": "5e946478",
   "metadata": {
    "execution": {
     "iopub.execute_input": "2024-02-21T12:27:03.082063Z",
     "iopub.status.busy": "2024-02-21T12:27:03.080661Z",
     "iopub.status.idle": "2024-02-21T12:27:03.088496Z",
     "shell.execute_reply": "2024-02-21T12:27:03.086621Z"
    },
    "papermill": {
     "duration": 0.057364,
     "end_time": "2024-02-21T12:27:03.092372",
     "exception": false,
     "start_time": "2024-02-21T12:27:03.035008",
     "status": "completed"
    },
    "tags": []
   },
   "outputs": [],
   "source": [
    "test_id = test_df['id']"
   ]
  },
  {
   "cell_type": "code",
   "execution_count": 16,
   "id": "36b4e103",
   "metadata": {
    "execution": {
     "iopub.execute_input": "2024-02-21T12:27:03.179122Z",
     "iopub.status.busy": "2024-02-21T12:27:03.178266Z",
     "iopub.status.idle": "2024-02-21T12:27:03.192429Z",
     "shell.execute_reply": "2024-02-21T12:27:03.190352Z"
    },
    "papermill": {
     "duration": 0.061709,
     "end_time": "2024-02-21T12:27:03.195893",
     "exception": false,
     "start_time": "2024-02-21T12:27:03.134184",
     "status": "completed"
    },
    "tags": []
   },
   "outputs": [],
   "source": [
    "df_resampled.drop(['id'], axis = 1, inplace = True)\n",
    "test_df.drop(['id'],axis = 1, inplace = True)"
   ]
  },
  {
   "cell_type": "markdown",
   "id": "d356cec5",
   "metadata": {
    "papermill": {
     "duration": 0.041239,
     "end_time": "2024-02-21T12:27:03.277360",
     "exception": false,
     "start_time": "2024-02-21T12:27:03.236121",
     "status": "completed"
    },
    "tags": []
   },
   "source": [
    "## 1.5 Visualization on Resampled Dataset  "
   ]
  },
  {
   "cell_type": "code",
   "execution_count": 17,
   "id": "55a1476c",
   "metadata": {
    "execution": {
     "iopub.execute_input": "2024-02-21T12:27:03.373214Z",
     "iopub.status.busy": "2024-02-21T12:27:03.372666Z",
     "iopub.status.idle": "2024-02-21T12:27:11.496782Z",
     "shell.execute_reply": "2024-02-21T12:27:11.494481Z"
    },
    "papermill": {
     "duration": 8.177358,
     "end_time": "2024-02-21T12:27:11.500489",
     "exception": false,
     "start_time": "2024-02-21T12:27:03.323131",
     "status": "completed"
    },
    "tags": []
   },
   "outputs": [
    {
     "data": {
      "text/plain": [
       "array([[<Axes: title={'center': 'Gender'}>,\n",
       "        <Axes: title={'center': 'Age'}>,\n",
       "        <Axes: title={'center': 'Height'}>,\n",
       "        <Axes: title={'center': 'Weight'}>],\n",
       "       [<Axes: title={'center': 'family_history_with_overweight'}>,\n",
       "        <Axes: title={'center': 'FAVC'}>,\n",
       "        <Axes: title={'center': 'FCVC'}>,\n",
       "        <Axes: title={'center': 'NCP'}>],\n",
       "       [<Axes: title={'center': 'CAEC'}>,\n",
       "        <Axes: title={'center': 'SMOKE'}>,\n",
       "        <Axes: title={'center': 'CH2O'}>,\n",
       "        <Axes: title={'center': 'SCC'}>],\n",
       "       [<Axes: title={'center': 'FAF'}>, <Axes: title={'center': 'TUE'}>,\n",
       "        <Axes: title={'center': 'CALC'}>,\n",
       "        <Axes: title={'center': 'MTRANS'}>],\n",
       "       [<Axes: title={'center': 'NObeyesdad'}>, <Axes: >, <Axes: >,\n",
       "        <Axes: >]], dtype=object)"
      ]
     },
     "execution_count": 17,
     "metadata": {},
     "output_type": "execute_result"
    },
    {
     "data": {
      "image/png": "[encoded data removed]",
      "text/plain": [
       "<Figure size 2000x2000 with 20 Axes>"
      ]
     },
     "metadata": {},
     "output_type": "display_data"
    }
   ],
   "source": [
    "df_resampled.hist(bins = 20,figsize= (20,20))"
   ]
  },
  {
   "cell_type": "code",
   "execution_count": 18,
   "id": "8f2335da",
   "metadata": {
    "execution": {
     "iopub.execute_input": "2024-02-21T12:27:11.593699Z",
     "iopub.status.busy": "2024-02-21T12:27:11.593135Z",
     "iopub.status.idle": "2024-02-21T12:27:12.035031Z",
     "shell.execute_reply": "2024-02-21T12:27:12.033123Z"
    },
    "papermill": {
     "duration": 0.492452,
     "end_time": "2024-02-21T12:27:12.039029",
     "exception": false,
     "start_time": "2024-02-21T12:27:11.546577",
     "status": "completed"
    },
    "tags": []
   },
   "outputs": [
    {
     "data": {
      "text/plain": [
       "<Axes: xlabel='CH2O'>"
      ]
     },
     "execution_count": 18,
     "metadata": {},
     "output_type": "execute_result"
    },
    {
     "data": {
      "image/png": "[encoded data removed]",
      "text/plain": [
       "<Figure size 800x500 with 1 Axes>"
      ]
     },
     "metadata": {},
     "output_type": "display_data"
    }
   ],
   "source": [
    "sns.set(rc={'figure.figsize':(8,5)})\n",
    "sns.boxplot(data = df_resampled , x = 'CH2O')"
   ]
  },
  {
   "cell_type": "code",
   "execution_count": 19,
   "id": "9d07977b",
   "metadata": {
    "execution": {
     "iopub.execute_input": "2024-02-21T12:27:12.132333Z",
     "iopub.status.busy": "2024-02-21T12:27:12.131509Z",
     "iopub.status.idle": "2024-02-21T12:27:12.515753Z",
     "shell.execute_reply": "2024-02-21T12:27:12.513565Z"
    },
    "papermill": {
     "duration": 0.433024,
     "end_time": "2024-02-21T12:27:12.518858",
     "exception": false,
     "start_time": "2024-02-21T12:27:12.085834",
     "status": "completed"
    },
    "tags": []
   },
   "outputs": [
    {
     "data": {
      "text/plain": [
       "<Axes: xlabel='Weight'>"
      ]
     },
     "execution_count": 19,
     "metadata": {},
     "output_type": "execute_result"
    },
    {
     "data": {
      "image/png": "[encoded data removed]",
      "text/plain": [
       "<Figure size 800x500 with 1 Axes>"
      ]
     },
     "metadata": {},
     "output_type": "display_data"
    }
   ],
   "source": [
    "sns.boxplot(data = df_resampled , x = 'Weight')"
   ]
  },
  {
   "cell_type": "code",
   "execution_count": 20,
   "id": "b5873e9c",
   "metadata": {
    "execution": {
     "iopub.execute_input": "2024-02-21T12:27:12.609948Z",
     "iopub.status.busy": "2024-02-21T12:27:12.609389Z",
     "iopub.status.idle": "2024-02-21T12:27:12.956476Z",
     "shell.execute_reply": "2024-02-21T12:27:12.955047Z"
    },
    "papermill": {
     "duration": 0.397857,
     "end_time": "2024-02-21T12:27:12.960184",
     "exception": false,
     "start_time": "2024-02-21T12:27:12.562327",
     "status": "completed"
    },
    "tags": []
   },
   "outputs": [
    {
     "data": {
      "text/plain": [
       "<Axes: xlabel='Height'>"
      ]
     },
     "execution_count": 20,
     "metadata": {},
     "output_type": "execute_result"
    },
    {
     "data": {
      "image/png": "[encoded data removed]",
      "text/plain": [
       "<Figure size 800x500 with 1 Axes>"
      ]
     },
     "metadata": {},
     "output_type": "display_data"
    }
   ],
   "source": [
    "sns.boxplot(data = df_resampled , x = 'Height')"
   ]
  },
  {
   "cell_type": "code",
   "execution_count": 21,
   "id": "7a33c0e8",
   "metadata": {
    "execution": {
     "iopub.execute_input": "2024-02-21T12:27:13.056378Z",
     "iopub.status.busy": "2024-02-21T12:27:13.055887Z",
     "iopub.status.idle": "2024-02-21T12:27:13.487103Z",
     "shell.execute_reply": "2024-02-21T12:27:13.485250Z"
    },
    "papermill": {
     "duration": 0.485667,
     "end_time": "2024-02-21T12:27:13.491461",
     "exception": false,
     "start_time": "2024-02-21T12:27:13.005794",
     "status": "completed"
    },
    "tags": []
   },
   "outputs": [
    {
     "data": {
      "text/plain": [
       "<Axes: xlabel='FCVC'>"
      ]
     },
     "execution_count": 21,
     "metadata": {},
     "output_type": "execute_result"
    },
    {
     "data": {
      "image/png": "[encoded data removed]",
      "text/plain": [
       "<Figure size 800x500 with 1 Axes>"
      ]
     },
     "metadata": {},
     "output_type": "display_data"
    }
   ],
   "source": [
    "sns.boxplot(data = df_resampled , x = 'FCVC')"
   ]
  },
  {
   "cell_type": "code",
   "execution_count": 22,
   "id": "62d02966",
   "metadata": {
    "execution": {
     "iopub.execute_input": "2024-02-21T12:27:13.587863Z",
     "iopub.status.busy": "2024-02-21T12:27:13.586172Z",
     "iopub.status.idle": "2024-02-21T12:27:13.964774Z",
     "shell.execute_reply": "2024-02-21T12:27:13.963046Z"
    },
    "papermill": {
     "duration": 0.430444,
     "end_time": "2024-02-21T12:27:13.968534",
     "exception": false,
     "start_time": "2024-02-21T12:27:13.538090",
     "status": "completed"
    },
    "tags": []
   },
   "outputs": [
    {
     "data": {
      "text/plain": [
       "<Axes: xlabel='FAF'>"
      ]
     },
     "execution_count": 22,
     "metadata": {},
     "output_type": "execute_result"
    },
    {
     "data": {
      "image/png": "[encoded data removed]",
      "text/plain": [
       "<Figure size 800x500 with 1 Axes>"
      ]
     },
     "metadata": {},
     "output_type": "display_data"
    }
   ],
   "source": [
    "sns.boxplot(data = df_resampled , x = 'FAF')"
   ]
  },
  {
   "cell_type": "code",
   "execution_count": 23,
   "id": "6a50bb19",
   "metadata": {
    "execution": {
     "iopub.execute_input": "2024-02-21T12:27:14.065003Z",
     "iopub.status.busy": "2024-02-21T12:27:14.063477Z",
     "iopub.status.idle": "2024-02-21T12:27:14.473554Z",
     "shell.execute_reply": "2024-02-21T12:27:14.471749Z"
    },
    "papermill": {
     "duration": 0.461829,
     "end_time": "2024-02-21T12:27:14.476950",
     "exception": false,
     "start_time": "2024-02-21T12:27:14.015121",
     "status": "completed"
    },
    "tags": []
   },
   "outputs": [
    {
     "data": {
      "text/plain": [
       "<Axes: xlabel='TUE'>"
      ]
     },
     "execution_count": 23,
     "metadata": {},
     "output_type": "execute_result"
    },
    {
     "data": {
      "image/png": "[encoded data removed]",
      "text/plain": [
       "<Figure size 800x500 with 1 Axes>"
      ]
     },
     "metadata": {},
     "output_type": "display_data"
    }
   ],
   "source": [
    "sns.boxplot(data = df_resampled , x = 'TUE')"
   ]
  },
  {
   "cell_type": "markdown",
   "id": "430cf542",
   "metadata": {
    "papermill": {
     "duration": 0.049155,
     "end_time": "2024-02-21T12:27:14.574038",
     "exception": false,
     "start_time": "2024-02-21T12:27:14.524883",
     "status": "completed"
    },
    "tags": []
   },
   "source": [
    "## 1.6 Removing Outliers "
   ]
  },
  {
   "cell_type": "code",
   "execution_count": 24,
   "id": "9b0d391b",
   "metadata": {
    "execution": {
     "iopub.execute_input": "2024-02-21T12:27:14.677362Z",
     "iopub.status.busy": "2024-02-21T12:27:14.676765Z",
     "iopub.status.idle": "2024-02-21T12:27:14.691741Z",
     "shell.execute_reply": "2024-02-21T12:27:14.690216Z"
    },
    "papermill": {
     "duration": 0.069876,
     "end_time": "2024-02-21T12:27:14.695377",
     "exception": false,
     "start_time": "2024-02-21T12:27:14.625501",
     "status": "completed"
    },
    "tags": []
   },
   "outputs": [],
   "source": [
    "Q1 = df_resampled['Height'].quantile(0.25)\n",
    "Q3 = df_resampled['Height'].quantile(0.75)\n",
    "IQR = Q3 - Q1    #IQR is interquartile range. \n",
    "\n",
    "filter = (df_resampled['Height'] >= Q1 - 1.5 * IQR) & (df_resampled['Height'] <= Q3 + 1.5 *IQR)"
   ]
  },
  {
   "cell_type": "code",
   "execution_count": 25,
   "id": "9b94101a",
   "metadata": {
    "execution": {
     "iopub.execute_input": "2024-02-21T12:27:14.801154Z",
     "iopub.status.busy": "2024-02-21T12:27:14.799837Z",
     "iopub.status.idle": "2024-02-21T12:27:14.812608Z",
     "shell.execute_reply": "2024-02-21T12:27:14.810841Z"
    },
    "papermill": {
     "duration": 0.067941,
     "end_time": "2024-02-21T12:27:14.816175",
     "exception": false,
     "start_time": "2024-02-21T12:27:14.748234",
     "status": "completed"
    },
    "tags": []
   },
   "outputs": [],
   "source": [
    "df_resampled = df_resampled.loc[filter]"
   ]
  },
  {
   "cell_type": "code",
   "execution_count": 26,
   "id": "aaccce45",
   "metadata": {
    "execution": {
     "iopub.execute_input": "2024-02-21T12:27:14.921829Z",
     "iopub.status.busy": "2024-02-21T12:27:14.921282Z",
     "iopub.status.idle": "2024-02-21T12:27:15.288282Z",
     "shell.execute_reply": "2024-02-21T12:27:15.286847Z"
    },
    "papermill": {
     "duration": 0.423477,
     "end_time": "2024-02-21T12:27:15.291633",
     "exception": false,
     "start_time": "2024-02-21T12:27:14.868156",
     "status": "completed"
    },
    "tags": []
   },
   "outputs": [
    {
     "data": {
      "text/plain": [
       "<Axes: xlabel='Height'>"
      ]
     },
     "execution_count": 26,
     "metadata": {},
     "output_type": "execute_result"
    },
    {
     "data": {
      "image/png": "[encoded data removed]",
      "text/plain": [
       "<Figure size 800x500 with 1 Axes>"
      ]
     },
     "metadata": {},
     "output_type": "display_data"
    }
   ],
   "source": [
    "sns.boxplot(data = df_resampled, x = 'Height')"
   ]
  },
  {
   "cell_type": "markdown",
   "id": "732d8ffa",
   "metadata": {
    "papermill": {
     "duration": 0.048919,
     "end_time": "2024-02-21T12:27:15.389435",
     "exception": false,
     "start_time": "2024-02-21T12:27:15.340516",
     "status": "completed"
    },
    "tags": []
   },
   "source": [
    "## 1.7 Checking Correlation "
   ]
  },
  {
   "cell_type": "code",
   "execution_count": 27,
   "id": "b3416271",
   "metadata": {
    "execution": {
     "iopub.execute_input": "2024-02-21T12:27:15.494014Z",
     "iopub.status.busy": "2024-02-21T12:27:15.493476Z",
     "iopub.status.idle": "2024-02-21T12:27:16.762047Z",
     "shell.execute_reply": "2024-02-21T12:27:16.760402Z"
    },
    "papermill": {
     "duration": 1.327501,
     "end_time": "2024-02-21T12:27:16.766062",
     "exception": false,
     "start_time": "2024-02-21T12:27:15.438561",
     "status": "completed"
    },
    "tags": []
   },
   "outputs": [
    {
     "data": {
      "text/plain": [
       "<Axes: >"
      ]
     },
     "execution_count": 27,
     "metadata": {},
     "output_type": "execute_result"
    },
    {
     "data": {
      "image/png": "[encoded data removed]",
      "text/plain": [
       "<Figure size 1500x1500 with 2 Axes>"
      ]
     },
     "metadata": {},
     "output_type": "display_data"
    }
   ],
   "source": [
    "sns.set(rc={'figure.figsize':(15,15)})\n",
    "sns.heatmap(data = df_resampled.corr(),cmap = 'coolwarm')"
   ]
  },
  {
   "cell_type": "markdown",
   "id": "137541d3",
   "metadata": {
    "papermill": {
     "duration": 0.053139,
     "end_time": "2024-02-21T12:27:16.869949",
     "exception": false,
     "start_time": "2024-02-21T12:27:16.816810",
     "status": "completed"
    },
    "tags": []
   },
   "source": [
    "# 2.1 Spliting "
   ]
  },
  {
   "cell_type": "code",
   "execution_count": 28,
   "id": "6e098cb9",
   "metadata": {
    "execution": {
     "iopub.execute_input": "2024-02-21T12:27:16.970568Z",
     "iopub.status.busy": "2024-02-21T12:27:16.970135Z",
     "iopub.status.idle": "2024-02-21T12:27:16.993941Z",
     "shell.execute_reply": "2024-02-21T12:27:16.992201Z"
    },
    "papermill": {
     "duration": 0.078451,
     "end_time": "2024-02-21T12:27:16.998638",
     "exception": false,
     "start_time": "2024-02-21T12:27:16.920187",
     "status": "completed"
    },
    "tags": []
   },
   "outputs": [],
   "source": [
    "X_train, X_test, y_train, y_test = train_test_split(df_resampled.drop(['NObeyesdad'],axis = 1),df_resampled['NObeyesdad'], test_size= 0.2)"
   ]
  },
  {
   "cell_type": "markdown",
   "id": "2441e5ea",
   "metadata": {
    "papermill": {
     "duration": 0.051298,
     "end_time": "2024-02-21T12:27:17.115852",
     "exception": false,
     "start_time": "2024-02-21T12:27:17.064554",
     "status": "completed"
    },
    "tags": []
   },
   "source": [
    "## 2.2 Scaling  "
   ]
  },
  {
   "cell_type": "code",
   "execution_count": 29,
   "id": "79331649",
   "metadata": {
    "execution": {
     "iopub.execute_input": "2024-02-21T12:27:17.229924Z",
     "iopub.status.busy": "2024-02-21T12:27:17.229200Z",
     "iopub.status.idle": "2024-02-21T12:27:17.236955Z",
     "shell.execute_reply": "2024-02-21T12:27:17.235308Z"
    },
    "papermill": {
     "duration": 0.068963,
     "end_time": "2024-02-21T12:27:17.239947",
     "exception": false,
     "start_time": "2024-02-21T12:27:17.170984",
     "status": "completed"
    },
    "tags": []
   },
   "outputs": [],
   "source": [
    "# scaler = MinMaxScaler()\n",
    "# scaler.fit(X_train)\n",
    "# X_test = scaler.transform(X_test)\n",
    "# X_train = scaler.transform(X_train)\n",
    "# test_scaled_df = scaler.transform(test_df)"
   ]
  },
  {
   "cell_type": "markdown",
   "id": "5fe913d7",
   "metadata": {
    "papermill": {
     "duration": 0.063497,
     "end_time": "2024-02-21T12:27:17.353420",
     "exception": false,
     "start_time": "2024-02-21T12:27:17.289923",
     "status": "completed"
    },
    "tags": []
   },
   "source": [
    "# 3.0 ML Models"
   ]
  },
  {
   "cell_type": "code",
   "execution_count": 30,
   "id": "7a7ce78a",
   "metadata": {
    "execution": {
     "iopub.execute_input": "2024-02-21T12:27:17.459023Z",
     "iopub.status.busy": "2024-02-21T12:27:17.458488Z",
     "iopub.status.idle": "2024-02-21T12:27:17.471775Z",
     "shell.execute_reply": "2024-02-21T12:27:17.469785Z"
    },
    "papermill": {
     "duration": 0.071544,
     "end_time": "2024-02-21T12:27:17.475612",
     "exception": false,
     "start_time": "2024-02-21T12:27:17.404068",
     "status": "completed"
    },
    "tags": []
   },
   "outputs": [],
   "source": [
    "from sklearn.linear_model import LogisticRegression\n",
    "from sklearn.ensemble import RandomForestClassifier\n",
    "from sklearn.tree import DecisionTreeClassifier\n",
    "from sklearn.multiclass import OneVsRestClassifier\n",
    "from sklearn.metrics import accuracy_score, recall_score, classification_report, confusion_matrix,f1_score"
   ]
  },
  {
   "cell_type": "markdown",
   "id": "531634f8",
   "metadata": {
    "papermill": {
     "duration": 0.063693,
     "end_time": "2024-02-21T12:27:17.594621",
     "exception": false,
     "start_time": "2024-02-21T12:27:17.530928",
     "status": "completed"
    },
    "tags": []
   },
   "source": [
    "## 3.1 Logistic Regression"
   ]
  },
  {
   "cell_type": "code",
   "execution_count": 31,
   "id": "602b994c",
   "metadata": {
    "execution": {
     "iopub.execute_input": "2024-02-21T12:27:17.701637Z",
     "iopub.status.busy": "2024-02-21T12:27:17.700717Z",
     "iopub.status.idle": "2024-02-21T12:27:38.633625Z",
     "shell.execute_reply": "2024-02-21T12:27:38.631823Z"
    },
    "papermill": {
     "duration": 20.992972,
     "end_time": "2024-02-21T12:27:38.639497",
     "exception": false,
     "start_time": "2024-02-21T12:27:17.646525",
     "status": "completed"
    },
    "tags": []
   },
   "outputs": [],
   "source": [
    "lr = LogisticRegression(max_iter = 1500)\n",
    "k = OneVsRestClassifier(estimator = lr).fit(X_train,y_train)"
   ]
  },
  {
   "cell_type": "code",
   "execution_count": 32,
   "id": "82592f8a",
   "metadata": {
    "execution": {
     "iopub.execute_input": "2024-02-21T12:27:38.798236Z",
     "iopub.status.busy": "2024-02-21T12:27:38.797727Z",
     "iopub.status.idle": "2024-02-21T12:27:38.918887Z",
     "shell.execute_reply": "2024-02-21T12:27:38.916053Z"
    },
    "papermill": {
     "duration": 0.179989,
     "end_time": "2024-02-21T12:27:38.925223",
     "exception": false,
     "start_time": "2024-02-21T12:27:38.745234",
     "status": "completed"
    },
    "tags": []
   },
   "outputs": [
    {
     "name": "stdout",
     "output_type": "stream",
     "text": [
      "Accuracy Score:  0.7392302259887006\n",
      "Recall Score:  0.7392302259887006\n",
      "Classification Report: \n",
      "               precision    recall  f1-score   support\n",
      "\n",
      "           0       0.84      0.97      0.90       805\n",
      "           1       0.68      0.53      0.60       834\n",
      "           2       0.64      0.68      0.66       834\n",
      "           3       0.88      0.96      0.92       810\n",
      "           4       0.99      1.00      0.99       799\n",
      "           5       0.55      0.55      0.55       787\n",
      "           6       0.54      0.48      0.51       795\n",
      "\n",
      "    accuracy                           0.74      5664\n",
      "   macro avg       0.73      0.74      0.73      5664\n",
      "weighted avg       0.73      0.74      0.73      5664\n",
      "\n",
      "Confusion Matrix: \n",
      " [[784  12   1   0   0   3   5]\n",
      " [138 444  20   0   0 148  84]\n",
      " [  0  10 571 102   7  45  99]\n",
      " [  0   1  25 780   1   0   3]\n",
      " [  0   0   0   2 797   0   0]\n",
      " [  6 130  84   0   0 429 138]\n",
      " [  0  52 197   5   1 158 382]]\n"
     ]
    }
   ],
   "source": [
    "y_pred = k.predict(X_test)\n",
    "print(\"Accuracy Score: \",accuracy_score(y_test,y_pred))\n",
    "print(\"Recall Score: \",recall_score(y_test,y_pred, average='micro'))\n",
    "print(\"Classification Report: \\n\",classification_report(y_test,y_pred))\n",
    "print(\"Confusion Matrix: \\n\",confusion_matrix(y_test,y_pred))"
   ]
  },
  {
   "cell_type": "markdown",
   "id": "fa4a3a88",
   "metadata": {
    "papermill": {
     "duration": 0.048511,
     "end_time": "2024-02-21T12:27:39.043120",
     "exception": false,
     "start_time": "2024-02-21T12:27:38.994609",
     "status": "completed"
    },
    "tags": []
   },
   "source": [
    "## 3.2 Decision Tree Classifier "
   ]
  },
  {
   "cell_type": "code",
   "execution_count": 33,
   "id": "6e3a5f84",
   "metadata": {
    "execution": {
     "iopub.execute_input": "2024-02-21T12:27:39.137549Z",
     "iopub.status.busy": "2024-02-21T12:27:39.137077Z",
     "iopub.status.idle": "2024-02-21T12:27:40.033615Z",
     "shell.execute_reply": "2024-02-21T12:27:40.031869Z"
    },
    "papermill": {
     "duration": 0.948613,
     "end_time": "2024-02-21T12:27:40.037479",
     "exception": false,
     "start_time": "2024-02-21T12:27:39.088866",
     "status": "completed"
    },
    "tags": []
   },
   "outputs": [],
   "source": [
    "dt  = DecisionTreeClassifier()\n",
    "ovr = OneVsRestClassifier(dt).fit(X_train,y_train)"
   ]
  },
  {
   "cell_type": "code",
   "execution_count": 34,
   "id": "54f6ed96",
   "metadata": {
    "execution": {
     "iopub.execute_input": "2024-02-21T12:27:40.140597Z",
     "iopub.status.busy": "2024-02-21T12:27:40.139419Z",
     "iopub.status.idle": "2024-02-21T12:27:40.210634Z",
     "shell.execute_reply": "2024-02-21T12:27:40.208841Z"
    },
    "papermill": {
     "duration": 0.127404,
     "end_time": "2024-02-21T12:27:40.213714",
     "exception": false,
     "start_time": "2024-02-21T12:27:40.086310",
     "status": "completed"
    },
    "tags": []
   },
   "outputs": [
    {
     "name": "stdout",
     "output_type": "stream",
     "text": [
      "Accuracy Score:  0.8981285310734464\n",
      "Recall Score:  0.8981285310734464\n",
      "Classification Report: \n",
      "               precision    recall  f1-score   support\n",
      "\n",
      "           0       0.97      0.92      0.94       805\n",
      "           1       0.92      0.84      0.88       834\n",
      "           2       0.95      0.82      0.88       834\n",
      "           3       0.96      0.96      0.96       810\n",
      "           4       1.00      0.99      0.99       799\n",
      "           5       0.86      0.85      0.86       787\n",
      "           6       0.70      0.91      0.79       795\n",
      "\n",
      "    accuracy                           0.90      5664\n",
      "   macro avg       0.91      0.90      0.90      5664\n",
      "weighted avg       0.91      0.90      0.90      5664\n",
      "\n",
      "Confusion Matrix: \n",
      " [[737  37   0   1   0   3  27]\n",
      " [ 18 704   1   0   0  57  54]\n",
      " [  0   0 686  26   2   8 112]\n",
      " [  0   0   4 776   1   0  29]\n",
      " [  0   0   1   2 793   0   3]\n",
      " [  2  18   6   0   0 670  91]\n",
      " [  0   6  27   2   0  39 721]]\n"
     ]
    }
   ],
   "source": [
    "y_pred = ovr.predict(X_test)\n",
    "print(\"Accuracy Score: \",accuracy_score(y_test,y_pred))\n",
    "print(\"Recall Score: \",recall_score(y_test,y_pred, average='micro'))\n",
    "print(\"Classification Report: \\n\",classification_report(y_test,y_pred))\n",
    "print(\"Confusion Matrix: \\n\",confusion_matrix(y_test,y_pred))"
   ]
  },
  {
   "cell_type": "markdown",
   "id": "9ba07f5b",
   "metadata": {
    "papermill": {
     "duration": 0.049232,
     "end_time": "2024-02-21T12:27:40.312878",
     "exception": false,
     "start_time": "2024-02-21T12:27:40.263646",
     "status": "completed"
    },
    "tags": []
   },
   "source": [
    "## 3.3 Random Forest Classifier "
   ]
  },
  {
   "cell_type": "code",
   "execution_count": 35,
   "id": "ca6f86de",
   "metadata": {
    "execution": {
     "iopub.execute_input": "2024-02-21T12:27:40.411373Z",
     "iopub.status.busy": "2024-02-21T12:27:40.410550Z",
     "iopub.status.idle": "2024-02-21T12:28:02.482776Z",
     "shell.execute_reply": "2024-02-21T12:28:02.480824Z"
    },
    "papermill": {
     "duration": 22.124626,
     "end_time": "2024-02-21T12:28:02.486512",
     "exception": false,
     "start_time": "2024-02-21T12:27:40.361886",
     "status": "completed"
    },
    "tags": []
   },
   "outputs": [],
   "source": [
    "rf = RandomForestClassifier()\n",
    "ovr  = OneVsRestClassifier(rf).fit(X_train,y_train)"
   ]
  },
  {
   "cell_type": "code",
   "execution_count": 36,
   "id": "18848a44",
   "metadata": {
    "execution": {
     "iopub.execute_input": "2024-02-21T12:28:02.588696Z",
     "iopub.status.busy": "2024-02-21T12:28:02.587867Z",
     "iopub.status.idle": "2024-02-21T12:28:03.321389Z",
     "shell.execute_reply": "2024-02-21T12:28:03.319952Z"
    },
    "papermill": {
     "duration": 0.789121,
     "end_time": "2024-02-21T12:28:03.325191",
     "exception": false,
     "start_time": "2024-02-21T12:28:02.536070",
     "status": "completed"
    },
    "tags": []
   },
   "outputs": [
    {
     "name": "stdout",
     "output_type": "stream",
     "text": [
      "Accuracy Score:  0.9484463276836158\n",
      "Recall Score:  0.9484463276836158\n",
      "Classification Report: \n",
      "               precision    recall  f1-score   support\n",
      "\n",
      "           0       0.96      0.97      0.96       805\n",
      "           1       0.94      0.94      0.94       834\n",
      "           2       0.95      0.92      0.94       834\n",
      "           3       0.98      0.99      0.99       810\n",
      "           4       1.00      1.00      1.00       799\n",
      "           5       0.91      0.93      0.92       787\n",
      "           6       0.90      0.90      0.90       795\n",
      "\n",
      "    accuracy                           0.95      5664\n",
      "   macro avg       0.95      0.95      0.95      5664\n",
      "weighted avg       0.95      0.95      0.95      5664\n",
      "\n",
      "Confusion Matrix: \n",
      " [[778  25   1   0   0   1   0]\n",
      " [ 26 780   0   0   0  26   2]\n",
      " [  0   0 770  10   2   9  43]\n",
      " [  0   0   4 801   1   0   4]\n",
      " [  0   0   1   2 796   0   0]\n",
      " [  3  20   4   0   0 728  32]\n",
      " [  1   8  29   3   0  35 719]]\n"
     ]
    }
   ],
   "source": [
    "y_pred = ovr.predict(X_test)\n",
    "print(\"Accuracy Score: \",accuracy_score(y_test,y_pred))\n",
    "print(\"Recall Score: \",recall_score(y_test,y_pred, average='micro'))\n",
    "print(\"Classification Report: \\n\",classification_report(y_test,y_pred))\n",
    "print(\"Confusion Matrix: \\n\",confusion_matrix(y_test,y_pred))"
   ]
  },
  {
   "cell_type": "code",
   "execution_count": 37,
   "id": "c06b06cb",
   "metadata": {
    "execution": {
     "iopub.execute_input": "2024-02-21T12:28:03.430541Z",
     "iopub.status.busy": "2024-02-21T12:28:03.428640Z",
     "iopub.status.idle": "2024-02-21T12:28:03.447007Z",
     "shell.execute_reply": "2024-02-21T12:28:03.445094Z"
    },
    "papermill": {
     "duration": 0.074771,
     "end_time": "2024-02-21T12:28:03.450347",
     "exception": false,
     "start_time": "2024-02-21T12:28:03.375576",
     "status": "completed"
    },
    "tags": []
   },
   "outputs": [
    {
     "data": {
      "text/plain": [
       "0.9484463276836158"
      ]
     },
     "execution_count": 37,
     "metadata": {},
     "output_type": "execute_result"
    }
   ],
   "source": [
    "f1_score(y_test,y_pred,average = 'micro')"
   ]
  },
  {
   "cell_type": "code",
   "execution_count": 38,
   "id": "f73998fb",
   "metadata": {
    "execution": {
     "iopub.execute_input": "2024-02-21T12:28:03.551973Z",
     "iopub.status.busy": "2024-02-21T12:28:03.551499Z",
     "iopub.status.idle": "2024-02-21T12:28:04.942918Z",
     "shell.execute_reply": "2024-02-21T12:28:04.941480Z"
    },
    "papermill": {
     "duration": 1.447214,
     "end_time": "2024-02-21T12:28:04.946212",
     "exception": false,
     "start_time": "2024-02-21T12:28:03.498998",
     "status": "completed"
    },
    "tags": []
   },
   "outputs": [],
   "source": [
    "test_y_pred = ovr.predict(test_df)"
   ]
  },
  {
   "cell_type": "code",
   "execution_count": 39,
   "id": "68ad5d02",
   "metadata": {
    "execution": {
     "iopub.execute_input": "2024-02-21T12:28:05.044256Z",
     "iopub.status.busy": "2024-02-21T12:28:05.043766Z",
     "iopub.status.idle": "2024-02-21T12:28:05.050304Z",
     "shell.execute_reply": "2024-02-21T12:28:05.049013Z"
    },
    "papermill": {
     "duration": 0.05943,
     "end_time": "2024-02-21T12:28:05.053263",
     "exception": false,
     "start_time": "2024-02-21T12:28:04.993833",
     "status": "completed"
    },
    "tags": []
   },
   "outputs": [],
   "source": [
    "test_y_pred = le.inverse_transform(test_y_pred)"
   ]
  },
  {
   "cell_type": "code",
   "execution_count": 40,
   "id": "744f579c",
   "metadata": {
    "execution": {
     "iopub.execute_input": "2024-02-21T12:28:05.155421Z",
     "iopub.status.busy": "2024-02-21T12:28:05.154964Z",
     "iopub.status.idle": "2024-02-21T12:28:05.200040Z",
     "shell.execute_reply": "2024-02-21T12:28:05.198230Z"
    },
    "papermill": {
     "duration": 0.098395,
     "end_time": "2024-02-21T12:28:05.203524",
     "exception": false,
     "start_time": "2024-02-21T12:28:05.105129",
     "status": "completed"
    },
    "tags": []
   },
   "outputs": [],
   "source": [
    "sub = pd.DataFrame({'id':test_id,'NObeyesdad':test_y_pred})\n",
    "sub.to_csv('submission.csv', index=False,header = True)"
   ]
  },
  {
   "cell_type": "code",
   "execution_count": 41,
   "id": "95f120c6",
   "metadata": {
    "execution": {
     "iopub.execute_input": "2024-02-21T12:28:05.300839Z",
     "iopub.status.busy": "2024-02-21T12:28:05.300092Z",
     "iopub.status.idle": "2024-02-21T12:28:05.317106Z",
     "shell.execute_reply": "2024-02-21T12:28:05.315463Z"
    },
    "papermill": {
     "duration": 0.069735,
     "end_time": "2024-02-21T12:28:05.320463",
     "exception": false,
     "start_time": "2024-02-21T12:28:05.250728",
     "status": "completed"
    },
    "tags": []
   },
   "outputs": [
    {
     "data": {
      "text/html": [
       "<div>\n",
       "<style scoped>\n",
       "    .dataframe tbody tr th:only-of-type {\n",
       "        vertical-align: middle;\n",
       "    }\n",
       "\n",
       "    .dataframe tbody tr th {\n",
       "        vertical-align: top;\n",
       "    }\n",
       "\n",
       "    .dataframe thead th {\n",
       "        text-align: right;\n",
       "    }\n",
       "</style>\n",
       "<table border=\"1\" class=\"dataframe\">\n",
       "  <thead>\n",
       "    <tr style=\"text-align: right;\">\n",
       "      <th></th>\n",
       "      <th>id</th>\n",
       "      <th>NObeyesdad</th>\n",
       "    </tr>\n",
       "  </thead>\n",
       "  <tbody>\n",
       "    <tr>\n",
       "      <th>0</th>\n",
       "      <td>20758</td>\n",
       "      <td>Obesity_Type_II</td>\n",
       "    </tr>\n",
       "    <tr>\n",
       "      <th>1</th>\n",
       "      <td>20759</td>\n",
       "      <td>Overweight_Level_I</td>\n",
       "    </tr>\n",
       "    <tr>\n",
       "      <th>2</th>\n",
       "      <td>20760</td>\n",
       "      <td>Obesity_Type_III</td>\n",
       "    </tr>\n",
       "    <tr>\n",
       "      <th>3</th>\n",
       "      <td>20761</td>\n",
       "      <td>Obesity_Type_I</td>\n",
       "    </tr>\n",
       "    <tr>\n",
       "      <th>4</th>\n",
       "      <td>20762</td>\n",
       "      <td>Obesity_Type_III</td>\n",
       "    </tr>\n",
       "    <tr>\n",
       "      <th>...</th>\n",
       "      <td>...</td>\n",
       "      <td>...</td>\n",
       "    </tr>\n",
       "    <tr>\n",
       "      <th>13835</th>\n",
       "      <td>34593</td>\n",
       "      <td>Overweight_Level_II</td>\n",
       "    </tr>\n",
       "    <tr>\n",
       "      <th>13836</th>\n",
       "      <td>34594</td>\n",
       "      <td>Overweight_Level_I</td>\n",
       "    </tr>\n",
       "    <tr>\n",
       "      <th>13837</th>\n",
       "      <td>34595</td>\n",
       "      <td>Insufficient_Weight</td>\n",
       "    </tr>\n",
       "    <tr>\n",
       "      <th>13838</th>\n",
       "      <td>34596</td>\n",
       "      <td>Normal_Weight</td>\n",
       "    </tr>\n",
       "    <tr>\n",
       "      <th>13839</th>\n",
       "      <td>34597</td>\n",
       "      <td>Obesity_Type_II</td>\n",
       "    </tr>\n",
       "  </tbody>\n",
       "</table>\n",
       "<p>13840 rows × 2 columns</p>\n",
       "</div>"
      ],
      "text/plain": [
       "          id           NObeyesdad\n",
       "0      20758      Obesity_Type_II\n",
       "1      20759   Overweight_Level_I\n",
       "2      20760     Obesity_Type_III\n",
       "3      20761       Obesity_Type_I\n",
       "4      20762     Obesity_Type_III\n",
       "...      ...                  ...\n",
       "13835  34593  Overweight_Level_II\n",
       "13836  34594   Overweight_Level_I\n",
       "13837  34595  Insufficient_Weight\n",
       "13838  34596        Normal_Weight\n",
       "13839  34597      Obesity_Type_II\n",
       "\n",
       "[13840 rows x 2 columns]"
      ]
     },
     "execution_count": 41,
     "metadata": {},
     "output_type": "execute_result"
    }
   ],
   "source": [
    "sub"
   ]
  },
  {
   "cell_type": "code",
   "execution_count": 42,
   "id": "17833e41",
   "metadata": {
    "execution": {
     "iopub.execute_input": "2024-02-21T12:28:05.418998Z",
     "iopub.status.busy": "2024-02-21T12:28:05.418432Z",
     "iopub.status.idle": "2024-02-21T12:28:05.441358Z",
     "shell.execute_reply": "2024-02-21T12:28:05.439987Z"
    },
    "papermill": {
     "duration": 0.075069,
     "end_time": "2024-02-21T12:28:05.444314",
     "exception": false,
     "start_time": "2024-02-21T12:28:05.369245",
     "status": "completed"
    },
    "tags": []
   },
   "outputs": [
    {
     "data": {
      "text/plain": [
       "array(['Insufficient_Weight', 'Normal_Weight', 'Obesity_Type_I',\n",
       "       'Obesity_Type_II', 'Obesity_Type_III', 'Overweight_Level_I',\n",
       "       'Overweight_Level_II'], dtype=object)"
      ]
     },
     "execution_count": 42,
     "metadata": {},
     "output_type": "execute_result"
    }
   ],
   "source": [
    "np.unique(sub.NObeyesdad)"
   ]
  },
  {
   "cell_type": "markdown",
   "id": "b989f2e7",
   "metadata": {
    "papermill": {
     "duration": 0.050285,
     "end_time": "2024-02-21T12:28:05.546333",
     "exception": false,
     "start_time": "2024-02-21T12:28:05.496048",
     "status": "completed"
    },
    "tags": []
   },
   "source": [
    "Getting Around 0.900 score "
   ]
  },
  {
   "cell_type": "markdown",
   "id": "ceb2f259",
   "metadata": {
    "papermill": {
     "duration": 0.048259,
     "end_time": "2024-02-21T12:28:05.644800",
     "exception": false,
     "start_time": "2024-02-21T12:28:05.596541",
     "status": "completed"
    },
    "tags": []
   },
   "source": [
    "### 3.3.1 Randomized Search CV "
   ]
  },
  {
   "cell_type": "code",
   "execution_count": 43,
   "id": "4f30326c",
   "metadata": {
    "execution": {
     "iopub.execute_input": "2024-02-21T12:28:05.749381Z",
     "iopub.status.busy": "2024-02-21T12:28:05.748188Z",
     "iopub.status.idle": "2024-02-21T12:28:05.755580Z",
     "shell.execute_reply": "2024-02-21T12:28:05.754240Z"
    },
    "papermill": {
     "duration": 0.06189,
     "end_time": "2024-02-21T12:28:05.758869",
     "exception": false,
     "start_time": "2024-02-21T12:28:05.696979",
     "status": "completed"
    },
    "tags": []
   },
   "outputs": [],
   "source": [
    "# params = {\n",
    "#     \"n_estimators\" : [int(x) for x in np.linspace(100,1000)],\n",
    "#     \"max_depth\" : [i for i in range(20,40)]\n",
    "# #     \"min_samples_split\" : [i for i in range(2,5)]\n",
    "# #     \"min_samples_leaf\" : [i for i in range(10,20)]\n",
    "# }"
   ]
  },
  {
   "cell_type": "code",
   "execution_count": 44,
   "id": "2ad820f2",
   "metadata": {
    "execution": {
     "iopub.execute_input": "2024-02-21T12:28:05.857103Z",
     "iopub.status.busy": "2024-02-21T12:28:05.856642Z",
     "iopub.status.idle": "2024-02-21T12:28:05.862332Z",
     "shell.execute_reply": "2024-02-21T12:28:05.860611Z"
    },
    "papermill": {
     "duration": 0.058729,
     "end_time": "2024-02-21T12:28:05.865502",
     "exception": false,
     "start_time": "2024-02-21T12:28:05.806773",
     "status": "completed"
    },
    "tags": []
   },
   "outputs": [],
   "source": [
    "# rf = RandomForestClassifier(random_state = 42)\n",
    "# rcv = RandomizedSearchCV(estimator = rf, param_distributions=params,n_iter = 20, cv = 2,verbose=3)"
   ]
  },
  {
   "cell_type": "code",
   "execution_count": 45,
   "id": "6bb7211f",
   "metadata": {
    "execution": {
     "iopub.execute_input": "2024-02-21T12:28:05.970574Z",
     "iopub.status.busy": "2024-02-21T12:28:05.969727Z",
     "iopub.status.idle": "2024-02-21T12:28:05.974804Z",
     "shell.execute_reply": "2024-02-21T12:28:05.973803Z"
    },
    "papermill": {
     "duration": 0.061541,
     "end_time": "2024-02-21T12:28:05.977786",
     "exception": false,
     "start_time": "2024-02-21T12:28:05.916245",
     "status": "completed"
    },
    "tags": []
   },
   "outputs": [],
   "source": [
    "# rcv.fit(X_train,y_train)"
   ]
  },
  {
   "cell_type": "code",
   "execution_count": 46,
   "id": "203d5194",
   "metadata": {
    "execution": {
     "iopub.execute_input": "2024-02-21T12:28:06.080292Z",
     "iopub.status.busy": "2024-02-21T12:28:06.079284Z",
     "iopub.status.idle": "2024-02-21T12:28:06.086367Z",
     "shell.execute_reply": "2024-02-21T12:28:06.084465Z"
    },
    "papermill": {
     "duration": 0.060294,
     "end_time": "2024-02-21T12:28:06.089415",
     "exception": false,
     "start_time": "2024-02-21T12:28:06.029121",
     "status": "completed"
    },
    "tags": []
   },
   "outputs": [],
   "source": [
    "# best_params_rf_rscv = rcv.best_params_\n",
    "# best_rf_rscv = rcv.best_estimator_\n",
    "\n",
    "# print(\"\\n\",\"-\"*100,\"\\n\")\n",
    "# print(\"Best Params :\",rcv.best_params_)\n",
    "\n",
    "# print(\"\\n\",\"-\"*100,\"\\n\")\n",
    "# print(\"Best Evaluator :\",rcv.best_estimator_)\n",
    "\n",
    "# print(\"\\n\",\"-\"*100,\"\\n\")\n",
    "# # print(\" - Baseline ROC Area Under Curve of Random Forest:\",roc_auc_score(y_test, best_rf_rscv.predict_proba(X_test)[:,1]))\n",
    "# print(\"\\n - Baseline Accuracy of Random Forest:\",accuracy_score(y_test, best_rf_rscv.predict(X_test)))\n",
    "# print(\"\\n - Baseline Conf Matrix of Random Forest:\\n\",confusion_matrix(y_test, best_rf_rscv.predict(X_test)))\n",
    "# print(\"\\n - Baseline Classification Report of Random Forest:\\n\",classification_report(y_test, best_rf_rscv.predict(X_test)))"
   ]
  },
  {
   "cell_type": "markdown",
   "id": "bfc9ee34",
   "metadata": {
    "papermill": {
     "duration": 0.049142,
     "end_time": "2024-02-21T12:28:06.189503",
     "exception": false,
     "start_time": "2024-02-21T12:28:06.140361",
     "status": "completed"
    },
    "tags": []
   },
   "source": [
    "### 3.3.2 Grid Search CV "
   ]
  },
  {
   "cell_type": "code",
   "execution_count": 47,
   "id": "0ea5c70f",
   "metadata": {
    "execution": {
     "iopub.execute_input": "2024-02-21T12:28:06.287606Z",
     "iopub.status.busy": "2024-02-21T12:28:06.286728Z",
     "iopub.status.idle": "2024-02-21T12:28:06.291743Z",
     "shell.execute_reply": "2024-02-21T12:28:06.290596Z"
    },
    "papermill": {
     "duration": 0.057934,
     "end_time": "2024-02-21T12:28:06.294502",
     "exception": false,
     "start_time": "2024-02-21T12:28:06.236568",
     "status": "completed"
    },
    "tags": []
   },
   "outputs": [],
   "source": [
    "# params = {\n",
    "# #     \"n_estimators\" : [int(x) for x in [338,700]],\n",
    "#     \"max_depth\" : [i for i in range(30,50)]\n",
    "# #     \"min_samples_split\" : [i for i in range(2,5)]\n",
    "# #     \"min_samples_leaf\" : [i for i in range(10,20)]\n",
    "# }"
   ]
  },
  {
   "cell_type": "code",
   "execution_count": 48,
   "id": "f2aef717",
   "metadata": {
    "execution": {
     "iopub.execute_input": "2024-02-21T12:28:06.400017Z",
     "iopub.status.busy": "2024-02-21T12:28:06.399167Z",
     "iopub.status.idle": "2024-02-21T12:28:06.404513Z",
     "shell.execute_reply": "2024-02-21T12:28:06.402823Z"
    },
    "papermill": {
     "duration": 0.061516,
     "end_time": "2024-02-21T12:28:06.407513",
     "exception": false,
     "start_time": "2024-02-21T12:28:06.345997",
     "status": "completed"
    },
    "tags": []
   },
   "outputs": [],
   "source": [
    "# rf = RandomForestClassifier(n_estimators = 500,random_state = 42)\n",
    "\n",
    "# gscv = GridSearchCV(estimator = rf, param_grid= params,cv =2,verbose = 3)\n",
    "# gscv.fit(X_train,y_train)"
   ]
  },
  {
   "cell_type": "code",
   "execution_count": 49,
   "id": "9898d9ad",
   "metadata": {
    "execution": {
     "iopub.execute_input": "2024-02-21T12:28:06.508487Z",
     "iopub.status.busy": "2024-02-21T12:28:06.508003Z",
     "iopub.status.idle": "2024-02-21T12:28:06.513774Z",
     "shell.execute_reply": "2024-02-21T12:28:06.512499Z"
    },
    "papermill": {
     "duration": 0.05957,
     "end_time": "2024-02-21T12:28:06.516510",
     "exception": false,
     "start_time": "2024-02-21T12:28:06.456940",
     "status": "completed"
    },
    "tags": []
   },
   "outputs": [],
   "source": [
    "# best_params_rf_gscv = gscv.best_params_\n",
    "# best_rf_gscv = gscv.best_estimator_\n",
    "\n",
    "# print(\"\\n\",\"-\"*100,\"\\n\")\n",
    "# print(\"Best Params :\",gscv.best_params_)\n",
    "\n",
    "# print(\"\\n\",\"-\"*100,\"\\n\")\n",
    "# print(\"Best Evaluator :\",gscv.best_estimator_)\n",
    "\n",
    "# print(\"\\n\",\"-\"*100,\"\\n\")\n",
    "# # print(\" - Baseline ROC Area Under Curve of Random Forest:\",roc_auc_score(y_test, best_rf_rscv.predict_proba(X_test)[:,1]))\n",
    "# print(\"\\n - Baseline Accuracy of Random Forest:\",accuracy_score(y_test, best_rf_gscv.predict(X_test)))\n",
    "# print(\"\\n - Baseline Conf Matrix of Random Forest:\\n\",confusion_matrix(y_test, best_rf_gscv.predict(X_test)))\n",
    "# print(\"\\n - Baseline Classification Report of Random Forest:\\n\",classification_report(y_test, best_rf_gscv.predict(X_test)))"
   ]
  },
  {
   "cell_type": "markdown",
   "id": "c8995441",
   "metadata": {
    "papermill": {
     "duration": 0.046654,
     "end_time": "2024-02-21T12:28:06.611948",
     "exception": false,
     "start_time": "2024-02-21T12:28:06.565294",
     "status": "completed"
    },
    "tags": []
   },
   "source": [
    "## 3.4 XGBOOST"
   ]
  },
  {
   "cell_type": "code",
   "execution_count": 50,
   "id": "c6016d43",
   "metadata": {
    "execution": {
     "iopub.execute_input": "2024-02-21T12:28:06.711941Z",
     "iopub.status.busy": "2024-02-21T12:28:06.711473Z",
     "iopub.status.idle": "2024-02-21T12:28:07.193013Z",
     "shell.execute_reply": "2024-02-21T12:28:07.191157Z"
    },
    "papermill": {
     "duration": 0.537928,
     "end_time": "2024-02-21T12:28:07.195975",
     "exception": false,
     "start_time": "2024-02-21T12:28:06.658047",
     "status": "completed"
    },
    "tags": []
   },
   "outputs": [],
   "source": [
    "from xgboost import XGBClassifier"
   ]
  },
  {
   "cell_type": "markdown",
   "id": "0f4bc40a",
   "metadata": {
    "papermill": {
     "duration": 0.051408,
     "end_time": "2024-02-21T12:28:07.297207",
     "exception": false,
     "start_time": "2024-02-21T12:28:07.245799",
     "status": "completed"
    },
    "tags": []
   },
   "source": [
    "### 3.4.1 RandomizedSearchCV"
   ]
  },
  {
   "cell_type": "code",
   "execution_count": 51,
   "id": "212126ff",
   "metadata": {
    "execution": {
     "iopub.execute_input": "2024-02-21T12:28:07.402091Z",
     "iopub.status.busy": "2024-02-21T12:28:07.401274Z",
     "iopub.status.idle": "2024-02-21T12:28:07.408400Z",
     "shell.execute_reply": "2024-02-21T12:28:07.406803Z"
    },
    "papermill": {
     "duration": 0.062684,
     "end_time": "2024-02-21T12:28:07.411641",
     "exception": false,
     "start_time": "2024-02-21T12:28:07.348957",
     "status": "completed"
    },
    "tags": []
   },
   "outputs": [],
   "source": [
    "# params = {\n",
    "#     \"n_estimators\" : [int(x) for x in np.linspace(300,500)],\n",
    "#     \"max_depth\" : [i for i in range(20,40)],\n",
    "# #     \"max_delta_step\" : [i for i in range(1,5)],\n",
    "# #     \"learning_rate\" : [round(i,2) for i in np.linspace(0.01,0.8)]\n",
    "# }"
   ]
  },
  {
   "cell_type": "code",
   "execution_count": 52,
   "id": "8737e8cb",
   "metadata": {
    "execution": {
     "iopub.execute_input": "2024-02-21T12:28:07.509795Z",
     "iopub.status.busy": "2024-02-21T12:28:07.509260Z",
     "iopub.status.idle": "2024-02-21T12:28:07.515988Z",
     "shell.execute_reply": "2024-02-21T12:28:07.514476Z"
    },
    "papermill": {
     "duration": 0.058088,
     "end_time": "2024-02-21T12:28:07.519463",
     "exception": false,
     "start_time": "2024-02-21T12:28:07.461375",
     "status": "completed"
    },
    "tags": []
   },
   "outputs": [],
   "source": [
    "# xgb = XGBClassifier(device = 'cuda')\n",
    "# rscv = RandomizedSearchCV(estimator = xgb, param_distributions=params,n_iter = 20, cv = 2,verbose=3)\n",
    "# rscv.fit(X_train,y_train)"
   ]
  },
  {
   "cell_type": "code",
   "execution_count": 53,
   "id": "3e5881ec",
   "metadata": {
    "execution": {
     "iopub.execute_input": "2024-02-21T12:28:07.622385Z",
     "iopub.status.busy": "2024-02-21T12:28:07.620392Z",
     "iopub.status.idle": "2024-02-21T12:28:07.629056Z",
     "shell.execute_reply": "2024-02-21T12:28:07.626877Z"
    },
    "papermill": {
     "duration": 0.063523,
     "end_time": "2024-02-21T12:28:07.633061",
     "exception": false,
     "start_time": "2024-02-21T12:28:07.569538",
     "status": "completed"
    },
    "tags": []
   },
   "outputs": [],
   "source": [
    "# best_params_xgb_rscv = rscv.best_params_\n",
    "# best_xgb_rscv = rscv.best_estimator_\n",
    "\n",
    "# print(\"\\n\",\"-\"*100,\"\\n\")\n",
    "# print(\"Best Params :\",rscv.best_params_)\n",
    "\n",
    "# print(\"\\n\",\"-\"*100,\"\\n\")\n",
    "# print(\"Best Evaluator :\",rscv.best_estimator_)\n",
    "\n",
    "# print(\"\\n\",\"-\"*100,\"\\n\")\n",
    "# # print(\" - Baseline ROC Area Under Curve of Random Forest:\",roc_auc_score(y_test, best_rf_rscv.predict_proba(X_test)[:,1]))\n",
    "# print(\"\\n - Baseline Accuracy of Random Forest:\",accuracy_score(y_test, best_xgb_rscv.predict(X_test)))\n",
    "# print(\"\\n - Baseline Conf Matrix of Random Forest:\\n\",confusion_matrix(y_test, best_xgb_rscv.predict(X_test)))\n",
    "# print(\"\\n - Baseline Classification Report of Random Forest:\\n\",classification_report(y_test, best_xgb_rscv.predict(X_test)))"
   ]
  },
  {
   "cell_type": "markdown",
   "id": "869a9203",
   "metadata": {
    "papermill": {
     "duration": 0.048624,
     "end_time": "2024-02-21T12:28:07.729954",
     "exception": false,
     "start_time": "2024-02-21T12:28:07.681330",
     "status": "completed"
    },
    "tags": []
   },
   "source": [
    "### 3.4.2 Grid Search CV "
   ]
  },
  {
   "cell_type": "code",
   "execution_count": 54,
   "id": "82e38ec8",
   "metadata": {
    "execution": {
     "iopub.execute_input": "2024-02-21T12:28:07.829290Z",
     "iopub.status.busy": "2024-02-21T12:28:07.828810Z",
     "iopub.status.idle": "2024-02-21T12:28:07.834117Z",
     "shell.execute_reply": "2024-02-21T12:28:07.833048Z"
    },
    "papermill": {
     "duration": 0.059861,
     "end_time": "2024-02-21T12:28:07.837398",
     "exception": false,
     "start_time": "2024-02-21T12:28:07.777537",
     "status": "completed"
    },
    "tags": []
   },
   "outputs": [],
   "source": [
    "# params = {\n",
    "# #     \"n_estimators\" : [int(x) for x in [338,700]],\n",
    "#     \"max_depth\" : [i for i in range(18,30)],\n",
    "#     \"max_delta_step\" : [i for i in range(0,4)]\n",
    "# #     \"min_samples_leaf\" : [i for i in range(10,20)]\n",
    "# }"
   ]
  },
  {
   "cell_type": "code",
   "execution_count": 55,
   "id": "5bb08d61",
   "metadata": {
    "execution": {
     "iopub.execute_input": "2024-02-21T12:28:07.936700Z",
     "iopub.status.busy": "2024-02-21T12:28:07.935815Z",
     "iopub.status.idle": "2024-02-21T12:28:07.940467Z",
     "shell.execute_reply": "2024-02-21T12:28:07.939432Z"
    },
    "papermill": {
     "duration": 0.056108,
     "end_time": "2024-02-21T12:28:07.943437",
     "exception": false,
     "start_time": "2024-02-21T12:28:07.887329",
     "status": "completed"
    },
    "tags": []
   },
   "outputs": [],
   "source": [
    "# xgb = XGBClassifier(device = 'cuda')\n",
    "# gscv = GridSearchCV(estimator = xgb, param_grid= params,cv =2,verbose = 3)\n",
    "# gscv.fit(X_train,y_train)"
   ]
  },
  {
   "cell_type": "code",
   "execution_count": 56,
   "id": "357a5e4a",
   "metadata": {
    "execution": {
     "iopub.execute_input": "2024-02-21T12:28:08.041274Z",
     "iopub.status.busy": "2024-02-21T12:28:08.040781Z",
     "iopub.status.idle": "2024-02-21T12:28:08.046589Z",
     "shell.execute_reply": "2024-02-21T12:28:08.045283Z"
    },
    "papermill": {
     "duration": 0.057439,
     "end_time": "2024-02-21T12:28:08.049750",
     "exception": false,
     "start_time": "2024-02-21T12:28:07.992311",
     "status": "completed"
    },
    "tags": []
   },
   "outputs": [],
   "source": [
    "# best_params_xgb_gscv = gscv.best_params_\n",
    "# best_xgb_gscv = gscv.best_estimator_\n",
    "\n",
    "# print(\"\\n\",\"-\"*100,\"\\n\")\n",
    "# print(\"Best Params :\",gscv.best_params_)\n",
    "\n",
    "# print(\"\\n\",\"-\"*100,\"\\n\")\n",
    "# print(\"Best Evaluator :\",gscv.best_estimator_)\n",
    "\n",
    "# print(\"\\n\",\"-\"*100,\"\\n\")\n",
    "# # print(\" - Baseline ROC Area Under Curve of Random Forest:\",roc_auc_score(y_test, best_rf_rscv.predict_proba(X_test)[:,1]))\n",
    "# print(\"\\n - Baseline Accuracy of Random Forest:\",accuracy_score(y_test, best_xgb_gscv.predict(X_test)))\n",
    "# print(\"\\n - Baseline Conf Matrix of Random Forest:\\n\",confusion_matrix(y_test, best_xgb_gscv.predict(X_test)))\n",
    "# print(\"\\n - Baseline Classification Report of Random Forest:\\n\",classification_report(y_test, best_xgb_gscv.predict(X_test)))"
   ]
  },
  {
   "cell_type": "markdown",
   "id": "99dee219",
   "metadata": {
    "papermill": {
     "duration": 0.047927,
     "end_time": "2024-02-21T12:28:08.146993",
     "exception": false,
     "start_time": "2024-02-21T12:28:08.099066",
     "status": "completed"
    },
    "tags": []
   },
   "source": [
    "### 3.4.3 Final Model "
   ]
  },
  {
   "cell_type": "code",
   "execution_count": 57,
   "id": "c82a8b1a",
   "metadata": {
    "execution": {
     "iopub.execute_input": "2024-02-21T12:28:08.246990Z",
     "iopub.status.busy": "2024-02-21T12:28:08.246185Z",
     "iopub.status.idle": "2024-02-21T12:28:12.599492Z",
     "shell.execute_reply": "2024-02-21T12:28:12.597857Z"
    },
    "papermill": {
     "duration": 4.407618,
     "end_time": "2024-02-21T12:28:12.602735",
     "exception": false,
     "start_time": "2024-02-21T12:28:08.195117",
     "status": "completed"
    },
    "tags": []
   },
   "outputs": [
    {
     "data": {
      "text/html": [
       "<style>#sk-container-id-1 {color: black;background-color: white;}#sk-container-id-1 pre{padding: 0;}#sk-container-id-1 div.sk-toggleable {background-color: white;}#sk-container-id-1 label.sk-toggleable__label {cursor: pointer;display: block;width: 100%;margin-bottom: 0;padding: 0.3em;box-sizing: border-box;text-align: center;}#sk-container-id-1 label.sk-toggleable__label-arrow:before {content: \"▸\";float: left;margin-right: 0.25em;color: #696969;}#sk-container-id-1 label.sk-toggleable__label-arrow:hover:before {color: black;}#sk-container-id-1 div.sk-estimator:hover label.sk-toggleable__label-arrow:before {color: black;}#sk-container-id-1 div.sk-toggleable__content {max-height: 0;max-width: 0;overflow: hidden;text-align: left;background-color: #f0f8ff;}#sk-container-id-1 div.sk-toggleable__content pre {margin: 0.2em;color: black;border-radius: 0.25em;background-color: #f0f8ff;}#sk-container-id-1 input.sk-toggleable__control:checked~div.sk-toggleable__content {max-height: 200px;max-width: 100%;overflow: auto;}#sk-container-id-1 input.sk-toggleable__control:checked~label.sk-toggleable__label-arrow:before {content: \"▾\";}#sk-container-id-1 div.sk-estimator input.sk-toggleable__control:checked~label.sk-toggleable__label {background-color: #d4ebff;}#sk-container-id-1 div.sk-label input.sk-toggleable__control:checked~label.sk-toggleable__label {background-color: #d4ebff;}#sk-container-id-1 input.sk-hidden--visually {border: 0;clip: rect(1px 1px 1px 1px);clip: rect(1px, 1px, 1px, 1px);height: 1px;margin: -1px;overflow: hidden;padding: 0;position: absolute;width: 1px;}#sk-container-id-1 div.sk-estimator {font-family: monospace;background-color: #f0f8ff;border: 1px dotted black;border-radius: 0.25em;box-sizing: border-box;margin-bottom: 0.5em;}#sk-container-id-1 div.sk-estimator:hover {background-color: #d4ebff;}#sk-container-id-1 div.sk-parallel-item::after {content: \"\";width: 100%;border-bottom: 1px solid gray;flex-grow: 1;}#sk-container-id-1 div.sk-label:hover label.sk-toggleable__label {background-color: #d4ebff;}#sk-container-id-1 div.sk-serial::before {content: \"\";position: absolute;border-left: 1px solid gray;box-sizing: border-box;top: 0;bottom: 0;left: 50%;z-index: 0;}#sk-container-id-1 div.sk-serial {display: flex;flex-direction: column;align-items: center;background-color: white;padding-right: 0.2em;padding-left: 0.2em;position: relative;}#sk-container-id-1 div.sk-item {position: relative;z-index: 1;}#sk-container-id-1 div.sk-parallel {display: flex;align-items: stretch;justify-content: center;background-color: white;position: relative;}#sk-container-id-1 div.sk-item::before, #sk-container-id-1 div.sk-parallel-item::before {content: \"\";position: absolute;border-left: 1px solid gray;box-sizing: border-box;top: 0;bottom: 0;left: 50%;z-index: -1;}#sk-container-id-1 div.sk-parallel-item {display: flex;flex-direction: column;z-index: 1;position: relative;background-color: white;}#sk-container-id-1 div.sk-parallel-item:first-child::after {align-self: flex-end;width: 50%;}#sk-container-id-1 div.sk-parallel-item:last-child::after {align-self: flex-start;width: 50%;}#sk-container-id-1 div.sk-parallel-item:only-child::after {width: 0;}#sk-container-id-1 div.sk-dashed-wrapped {border: 1px dashed gray;margin: 0 0.4em 0.5em 0.4em;box-sizing: border-box;padding-bottom: 0.4em;background-color: white;}#sk-container-id-1 div.sk-label label {font-family: monospace;font-weight: bold;display: inline-block;line-height: 1.2em;}#sk-container-id-1 div.sk-label-container {text-align: center;}#sk-container-id-1 div.sk-container {/* jupyter's `normalize.less` sets `[hidden] { display: none; }` but bootstrap.min.css set `[hidden] { display: none !important; }` so we also need the `!important` here to be able to override the default hidden behavior on the sphinx rendered scikit-learn.org. See: https://github.com/scikit-learn/scikit-learn/issues/21755 */display: inline-block !important;position: relative;}#sk-container-id-1 div.sk-text-repr-fallback {display: none;}</style><div id=\"sk-container-id-1\" class=\"sk-top-container\"><div class=\"sk-text-repr-fallback\"><pre>XGBClassifier(base_score=None, booster=None, callbacks=None,\n",
       "              colsample_bylevel=None, colsample_bynode=None,\n",
       "              colsample_bytree=None, device=None, early_stopping_rounds=None,\n",
       "              enable_categorical=False, eval_metric=None, feature_types=None,\n",
       "              gamma=None, grow_policy=None, importance_type=None,\n",
       "              interaction_constraints=None, learning_rate=None, max_bin=None,\n",
       "              max_cat_threshold=None, max_cat_to_onehot=None,\n",
       "              max_delta_step=None, max_depth=16, max_leaves=None,\n",
       "              min_child_weight=None, missing=nan, monotone_constraints=None,\n",
       "              multi_strategy=None, n_estimators=None, n_jobs=None,\n",
       "              num_parallel_tree=None, objective=&#x27;multi:softprob&#x27;, ...)</pre><b>In a Jupyter environment, please rerun this cell to show the HTML representation or trust the notebook. <br />On GitHub, the HTML representation is unable to render, please try loading this page with nbviewer.org.</b></div><div class=\"sk-container\" hidden><div class=\"sk-item\"><div class=\"sk-estimator sk-toggleable\"><input class=\"sk-toggleable__control sk-hidden--visually\" id=\"sk-estimator-id-1\" type=\"checkbox\" checked><label for=\"sk-estimator-id-1\" class=\"sk-toggleable__label sk-toggleable__label-arrow\">XGBClassifier</label><div class=\"sk-toggleable__content\"><pre>XGBClassifier(base_score=None, booster=None, callbacks=None,\n",
       "              colsample_bylevel=None, colsample_bynode=None,\n",
       "              colsample_bytree=None, device=None, early_stopping_rounds=None,\n",
       "              enable_categorical=False, eval_metric=None, feature_types=None,\n",
       "              gamma=None, grow_policy=None, importance_type=None,\n",
       "              interaction_constraints=None, learning_rate=None, max_bin=None,\n",
       "              max_cat_threshold=None, max_cat_to_onehot=None,\n",
       "              max_delta_step=None, max_depth=16, max_leaves=None,\n",
       "              min_child_weight=None, missing=nan, monotone_constraints=None,\n",
       "              multi_strategy=None, n_estimators=None, n_jobs=None,\n",
       "              num_parallel_tree=None, objective=&#x27;multi:softprob&#x27;, ...)</pre></div></div></div></div></div>"
      ],
      "text/plain": [
       "XGBClassifier(base_score=None, booster=None, callbacks=None,\n",
       "              colsample_bylevel=None, colsample_bynode=None,\n",
       "              colsample_bytree=None, device=None, early_stopping_rounds=None,\n",
       "              enable_categorical=False, eval_metric=None, feature_types=None,\n",
       "              gamma=None, grow_policy=None, importance_type=None,\n",
       "              interaction_constraints=None, learning_rate=None, max_bin=None,\n",
       "              max_cat_threshold=None, max_cat_to_onehot=None,\n",
       "              max_delta_step=None, max_depth=16, max_leaves=None,\n",
       "              min_child_weight=None, missing=nan, monotone_constraints=None,\n",
       "              multi_strategy=None, n_estimators=None, n_jobs=None,\n",
       "              num_parallel_tree=None, objective='multi:softprob', ...)"
      ]
     },
     "execution_count": 57,
     "metadata": {},
     "output_type": "execute_result"
    }
   ],
   "source": [
    "xgb = XGBClassifier(max_depth=16)\n",
    "xgb.fit(X_train,y_train)"
   ]
  },
  {
   "cell_type": "code",
   "execution_count": 58,
   "id": "46b51f58",
   "metadata": {
    "execution": {
     "iopub.execute_input": "2024-02-21T12:28:12.708542Z",
     "iopub.status.busy": "2024-02-21T12:28:12.708083Z",
     "iopub.status.idle": "2024-02-21T12:28:12.854889Z",
     "shell.execute_reply": "2024-02-21T12:28:12.852997Z"
    },
    "papermill": {
     "duration": 0.205288,
     "end_time": "2024-02-21T12:28:12.858086",
     "exception": false,
     "start_time": "2024-02-21T12:28:12.652798",
     "status": "completed"
    },
    "tags": []
   },
   "outputs": [
    {
     "name": "stdout",
     "output_type": "stream",
     "text": [
      "Accuracy Score:  0.9436793785310734\n",
      "Recall Score:  0.9436793785310734\n",
      "Classification Report: \n",
      "               precision    recall  f1-score   support\n",
      "\n",
      "           0       0.96      0.97      0.96       805\n",
      "           1       0.93      0.93      0.93       834\n",
      "           2       0.95      0.91      0.93       834\n",
      "           3       0.97      0.99      0.98       810\n",
      "           4       1.00      1.00      1.00       799\n",
      "           5       0.90      0.92      0.91       787\n",
      "           6       0.90      0.90      0.90       795\n",
      "\n",
      "    accuracy                           0.94      5664\n",
      "   macro avg       0.94      0.94      0.94      5664\n",
      "weighted avg       0.94      0.94      0.94      5664\n",
      "\n",
      "Confusion Matrix: \n",
      " [[778  25   1   0   0   1   0]\n",
      " [ 28 778   0   0   0  25   3]\n",
      " [  0   1 759  17   2  12  43]\n",
      " [  0   0   6 799   1   0   4]\n",
      " [  0   0   1   2 796   0   0]\n",
      " [  4  26   4   0   0 721  32]\n",
      " [  1   6  31   3   0  40 714]]\n"
     ]
    }
   ],
   "source": [
    "y_pred = xgb.predict(X_test)\n",
    "print(\"Accuracy Score: \",accuracy_score(y_test,y_pred))\n",
    "print(\"Recall Score: \",recall_score(y_test,y_pred, average='micro'))\n",
    "print(\"Classification Report: \\n\",classification_report(y_test,y_pred))\n",
    "print(\"Confusion Matrix: \\n\",confusion_matrix(y_test,y_pred))"
   ]
  },
  {
   "cell_type": "code",
   "execution_count": null,
   "id": "f209c1ec",
   "metadata": {
    "papermill": {
     "duration": 0.048473,
     "end_time": "2024-02-21T12:28:12.955618",
     "exception": false,
     "start_time": "2024-02-21T12:28:12.907145",
     "status": "completed"
    },
    "tags": []
   },
   "outputs": [],
   "source": []
  },
  {
   "cell_type": "markdown",
   "id": "ceffbdcf",
   "metadata": {
    "papermill": {
     "duration": 0.04961,
     "end_time": "2024-02-21T12:28:13.056586",
     "exception": false,
     "start_time": "2024-02-21T12:28:13.006976",
     "status": "completed"
    },
    "tags": []
   },
   "source": [
    "## 3.5 SVM "
   ]
  },
  {
   "cell_type": "code",
   "execution_count": 59,
   "id": "b316944b",
   "metadata": {
    "execution": {
     "iopub.execute_input": "2024-02-21T12:28:13.159575Z",
     "iopub.status.busy": "2024-02-21T12:28:13.159144Z",
     "iopub.status.idle": "2024-02-21T12:28:29.354762Z",
     "shell.execute_reply": "2024-02-21T12:28:29.353752Z"
    },
    "papermill": {
     "duration": 16.250497,
     "end_time": "2024-02-21T12:28:29.357673",
     "exception": false,
     "start_time": "2024-02-21T12:28:13.107176",
     "status": "completed"
    },
    "tags": []
   },
   "outputs": [
    {
     "data": {
      "text/html": [
       "<style>#sk-container-id-2 {color: black;background-color: white;}#sk-container-id-2 pre{padding: 0;}#sk-container-id-2 div.sk-toggleable {background-color: white;}#sk-container-id-2 label.sk-toggleable__label {cursor: pointer;display: block;width: 100%;margin-bottom: 0;padding: 0.3em;box-sizing: border-box;text-align: center;}#sk-container-id-2 label.sk-toggleable__label-arrow:before {content: \"▸\";float: left;margin-right: 0.25em;color: #696969;}#sk-container-id-2 label.sk-toggleable__label-arrow:hover:before {color: black;}#sk-container-id-2 div.sk-estimator:hover label.sk-toggleable__label-arrow:before {color: black;}#sk-container-id-2 div.sk-toggleable__content {max-height: 0;max-width: 0;overflow: hidden;text-align: left;background-color: #f0f8ff;}#sk-container-id-2 div.sk-toggleable__content pre {margin: 0.2em;color: black;border-radius: 0.25em;background-color: #f0f8ff;}#sk-container-id-2 input.sk-toggleable__control:checked~div.sk-toggleable__content {max-height: 200px;max-width: 100%;overflow: auto;}#sk-container-id-2 input.sk-toggleable__control:checked~label.sk-toggleable__label-arrow:before {content: \"▾\";}#sk-container-id-2 div.sk-estimator input.sk-toggleable__control:checked~label.sk-toggleable__label {background-color: #d4ebff;}#sk-container-id-2 div.sk-label input.sk-toggleable__control:checked~label.sk-toggleable__label {background-color: #d4ebff;}#sk-container-id-2 input.sk-hidden--visually {border: 0;clip: rect(1px 1px 1px 1px);clip: rect(1px, 1px, 1px, 1px);height: 1px;margin: -1px;overflow: hidden;padding: 0;position: absolute;width: 1px;}#sk-container-id-2 div.sk-estimator {font-family: monospace;background-color: #f0f8ff;border: 1px dotted black;border-radius: 0.25em;box-sizing: border-box;margin-bottom: 0.5em;}#sk-container-id-2 div.sk-estimator:hover {background-color: #d4ebff;}#sk-container-id-2 div.sk-parallel-item::after {content: \"\";width: 100%;border-bottom: 1px solid gray;flex-grow: 1;}#sk-container-id-2 div.sk-label:hover label.sk-toggleable__label {background-color: #d4ebff;}#sk-container-id-2 div.sk-serial::before {content: \"\";position: absolute;border-left: 1px solid gray;box-sizing: border-box;top: 0;bottom: 0;left: 50%;z-index: 0;}#sk-container-id-2 div.sk-serial {display: flex;flex-direction: column;align-items: center;background-color: white;padding-right: 0.2em;padding-left: 0.2em;position: relative;}#sk-container-id-2 div.sk-item {position: relative;z-index: 1;}#sk-container-id-2 div.sk-parallel {display: flex;align-items: stretch;justify-content: center;background-color: white;position: relative;}#sk-container-id-2 div.sk-item::before, #sk-container-id-2 div.sk-parallel-item::before {content: \"\";position: absolute;border-left: 1px solid gray;box-sizing: border-box;top: 0;bottom: 0;left: 50%;z-index: -1;}#sk-container-id-2 div.sk-parallel-item {display: flex;flex-direction: column;z-index: 1;position: relative;background-color: white;}#sk-container-id-2 div.sk-parallel-item:first-child::after {align-self: flex-end;width: 50%;}#sk-container-id-2 div.sk-parallel-item:last-child::after {align-self: flex-start;width: 50%;}#sk-container-id-2 div.sk-parallel-item:only-child::after {width: 0;}#sk-container-id-2 div.sk-dashed-wrapped {border: 1px dashed gray;margin: 0 0.4em 0.5em 0.4em;box-sizing: border-box;padding-bottom: 0.4em;background-color: white;}#sk-container-id-2 div.sk-label label {font-family: monospace;font-weight: bold;display: inline-block;line-height: 1.2em;}#sk-container-id-2 div.sk-label-container {text-align: center;}#sk-container-id-2 div.sk-container {/* jupyter's `normalize.less` sets `[hidden] { display: none; }` but bootstrap.min.css set `[hidden] { display: none !important; }` so we also need the `!important` here to be able to override the default hidden behavior on the sphinx rendered scikit-learn.org. See: https://github.com/scikit-learn/scikit-learn/issues/21755 */display: inline-block !important;position: relative;}#sk-container-id-2 div.sk-text-repr-fallback {display: none;}</style><div id=\"sk-container-id-2\" class=\"sk-top-container\"><div class=\"sk-text-repr-fallback\"><pre>SVC()</pre><b>In a Jupyter environment, please rerun this cell to show the HTML representation or trust the notebook. <br />On GitHub, the HTML representation is unable to render, please try loading this page with nbviewer.org.</b></div><div class=\"sk-container\" hidden><div class=\"sk-item\"><div class=\"sk-estimator sk-toggleable\"><input class=\"sk-toggleable__control sk-hidden--visually\" id=\"sk-estimator-id-2\" type=\"checkbox\" checked><label for=\"sk-estimator-id-2\" class=\"sk-toggleable__label sk-toggleable__label-arrow\">SVC</label><div class=\"sk-toggleable__content\"><pre>SVC()</pre></div></div></div></div></div>"
      ],
      "text/plain": [
       "SVC()"
      ]
     },
     "execution_count": 59,
     "metadata": {},
     "output_type": "execute_result"
    }
   ],
   "source": [
    "from sklearn.svm import SVC\n",
    "svc = SVC()\n",
    "svc.fit(X_train,y_train)"
   ]
  },
  {
   "cell_type": "code",
   "execution_count": 60,
   "id": "d2b6a1a0",
   "metadata": {
    "execution": {
     "iopub.execute_input": "2024-02-21T12:28:29.464575Z",
     "iopub.status.busy": "2024-02-21T12:28:29.463601Z",
     "iopub.status.idle": "2024-02-21T12:28:37.331709Z",
     "shell.execute_reply": "2024-02-21T12:28:37.329638Z"
    },
    "papermill": {
     "duration": 7.925211,
     "end_time": "2024-02-21T12:28:37.335226",
     "exception": false,
     "start_time": "2024-02-21T12:28:29.410015",
     "status": "completed"
    },
    "tags": []
   },
   "outputs": [
    {
     "name": "stdout",
     "output_type": "stream",
     "text": [
      "Accuracy Score:  0.7277542372881356\n",
      "Recall Score:  0.7277542372881356\n",
      "Classification Report: \n",
      "               precision    recall  f1-score   support\n",
      "\n",
      "           0       0.77      0.94      0.84       805\n",
      "           1       0.70      0.53      0.60       834\n",
      "           2       0.74      0.49      0.59       834\n",
      "           3       0.93      0.89      0.91       810\n",
      "           4       0.94      0.99      0.96       799\n",
      "           5       0.62      0.52      0.57       787\n",
      "           6       0.49      0.75      0.59       795\n",
      "\n",
      "    accuracy                           0.73      5664\n",
      "   macro avg       0.74      0.73      0.72      5664\n",
      "weighted avg       0.74      0.73      0.72      5664\n",
      "\n",
      "Confusion Matrix: \n",
      " [[759  42   0   0   0   2   2]\n",
      " [219 438   0   0   0 166  11]\n",
      " [  0   2 407  48  18   4 355]\n",
      " [  0   0  50 722  35   0   3]\n",
      " [  0   0   5   1 792   0   1]\n",
      " [ 12 104   6   0   0 411 254]\n",
      " [  2  36  81   8   0  75 593]]\n"
     ]
    }
   ],
   "source": [
    "y_pred = svc.predict(X_test)\n",
    "print(\"Accuracy Score: \",accuracy_score(y_test,y_pred))\n",
    "print(\"Recall Score: \",recall_score(y_test,y_pred, average='micro'))\n",
    "print(\"Classification Report: \\n\",classification_report(y_test,y_pred))\n",
    "print(\"Confusion Matrix: \\n\",confusion_matrix(y_test,y_pred))"
   ]
  },
  {
   "cell_type": "markdown",
   "id": "ae45731b",
   "metadata": {
    "papermill": {
     "duration": 0.047991,
     "end_time": "2024-02-21T12:28:37.433156",
     "exception": false,
     "start_time": "2024-02-21T12:28:37.385165",
     "status": "completed"
    },
    "tags": []
   },
   "source": [
    "### 3.5.1 Grid Search CV "
   ]
  },
  {
   "cell_type": "code",
   "execution_count": 61,
   "id": "557f2323",
   "metadata": {
    "execution": {
     "iopub.execute_input": "2024-02-21T12:28:37.536581Z",
     "iopub.status.busy": "2024-02-21T12:28:37.535758Z",
     "iopub.status.idle": "2024-02-21T12:28:37.541620Z",
     "shell.execute_reply": "2024-02-21T12:28:37.539818Z"
    },
    "papermill": {
     "duration": 0.061924,
     "end_time": "2024-02-21T12:28:37.545317",
     "exception": false,
     "start_time": "2024-02-21T12:28:37.483393",
     "status": "completed"
    },
    "tags": []
   },
   "outputs": [],
   "source": [
    "# grid_list = {\"C\": np.arange(2, 10, 2),\n",
    "#              \"gamma\": np.arange(0.1, 1, 0.2)}\n",
    "# svc = SVC()\n",
    "# grid_search = GridSearchCV(svc, param_grid = grid_list, n_jobs = 4, cv = 2,verbose = 3) \n",
    "# grid_search.fit(X_train, y_train)"
   ]
  },
  {
   "cell_type": "code",
   "execution_count": 62,
   "id": "5e8b7195",
   "metadata": {
    "execution": {
     "iopub.execute_input": "2024-02-21T12:28:37.649029Z",
     "iopub.status.busy": "2024-02-21T12:28:37.648137Z",
     "iopub.status.idle": "2024-02-21T12:28:37.653609Z",
     "shell.execute_reply": "2024-02-21T12:28:37.652533Z"
    },
    "papermill": {
     "duration": 0.060858,
     "end_time": "2024-02-21T12:28:37.656696",
     "exception": false,
     "start_time": "2024-02-21T12:28:37.595838",
     "status": "completed"
    },
    "tags": []
   },
   "outputs": [],
   "source": [
    "# best_params_svc_gscv = grid_search.best_params_\n",
    "# best_svc_gscv = grid_search.best_estimator_\n",
    "\n",
    "# print(\"\\n\",\"-\"*100,\"\\n\")\n",
    "# print(\"Best Params :\",grid_search.best_params_)\n",
    "\n",
    "# print(\"\\n\",\"-\"*100,\"\\n\")\n",
    "# print(\"Best Evaluator :\",grid_search.best_estimator_)\n",
    "\n",
    "# print(\"\\n\",\"-\"*100,\"\\n\")\n",
    "# # print(\" - Baseline ROC Area Under Curve of Random Forest:\",roc_auc_score(y_test, best_rf_rscv.predict_proba(X_test)[:,1]))\n",
    "# print(\"\\n - Baseline Accuracy of Random Forest:\",accuracy_score(y_test, best_svc_gscv.predict(X_test)))\n",
    "# print(\"\\n - Baseline Conf Matrix of Random Forest:\\n\",confusion_matrix(y_test, best_svc_gscv.predict(X_test)))\n",
    "# print(\"\\n - Baseline Classification Report of Random Forest:\\n\",classification_report(y_test, best_svc_gscv.predict(X_test)))"
   ]
  },
  {
   "cell_type": "markdown",
   "id": "383c5733",
   "metadata": {
    "papermill": {
     "duration": 0.050464,
     "end_time": "2024-02-21T12:28:37.756342",
     "exception": false,
     "start_time": "2024-02-21T12:28:37.705878",
     "status": "completed"
    },
    "tags": []
   },
   "source": [
    "## 3.6 LGBM"
   ]
  },
  {
   "cell_type": "code",
   "execution_count": 63,
   "id": "6a013362",
   "metadata": {
    "execution": {
     "iopub.execute_input": "2024-02-21T12:28:37.860774Z",
     "iopub.status.busy": "2024-02-21T12:28:37.859997Z",
     "iopub.status.idle": "2024-02-21T12:28:39.715735Z",
     "shell.execute_reply": "2024-02-21T12:28:39.713337Z"
    },
    "papermill": {
     "duration": 1.912332,
     "end_time": "2024-02-21T12:28:39.720889",
     "exception": false,
     "start_time": "2024-02-21T12:28:37.808557",
     "status": "completed"
    },
    "tags": []
   },
   "outputs": [],
   "source": [
    "from lightgbm import LGBMClassifier"
   ]
  },
  {
   "cell_type": "markdown",
   "id": "bedad008",
   "metadata": {
    "papermill": {
     "duration": 0.05457,
     "end_time": "2024-02-21T12:28:39.827156",
     "exception": false,
     "start_time": "2024-02-21T12:28:39.772586",
     "status": "completed"
    },
    "tags": []
   },
   "source": [
    "### 3.6.1 improvising the best params of notebook: https://www.kaggle.com/code/dghosh05/lgbm-solution  "
   ]
  },
  {
   "cell_type": "code",
   "execution_count": 64,
   "id": "92b6583d",
   "metadata": {
    "execution": {
     "iopub.execute_input": "2024-02-21T12:28:39.941138Z",
     "iopub.status.busy": "2024-02-21T12:28:39.940270Z",
     "iopub.status.idle": "2024-02-21T12:29:08.255382Z",
     "shell.execute_reply": "2024-02-21T12:29:08.253507Z"
    },
    "papermill": {
     "duration": 28.379032,
     "end_time": "2024-02-21T12:29:08.260334",
     "exception": false,
     "start_time": "2024-02-21T12:28:39.881302",
     "status": "completed"
    },
    "tags": []
   },
   "outputs": [
    {
     "data": {
      "text/html": [
       "<style>#sk-container-id-3 {color: black;background-color: white;}#sk-container-id-3 pre{padding: 0;}#sk-container-id-3 div.sk-toggleable {background-color: white;}#sk-container-id-3 label.sk-toggleable__label {cursor: pointer;display: block;width: 100%;margin-bottom: 0;padding: 0.3em;box-sizing: border-box;text-align: center;}#sk-container-id-3 label.sk-toggleable__label-arrow:before {content: \"▸\";float: left;margin-right: 0.25em;color: #696969;}#sk-container-id-3 label.sk-toggleable__label-arrow:hover:before {color: black;}#sk-container-id-3 div.sk-estimator:hover label.sk-toggleable__label-arrow:before {color: black;}#sk-container-id-3 div.sk-toggleable__content {max-height: 0;max-width: 0;overflow: hidden;text-align: left;background-color: #f0f8ff;}#sk-container-id-3 div.sk-toggleable__content pre {margin: 0.2em;color: black;border-radius: 0.25em;background-color: #f0f8ff;}#sk-container-id-3 input.sk-toggleable__control:checked~div.sk-toggleable__content {max-height: 200px;max-width: 100%;overflow: auto;}#sk-container-id-3 input.sk-toggleable__control:checked~label.sk-toggleable__label-arrow:before {content: \"▾\";}#sk-container-id-3 div.sk-estimator input.sk-toggleable__control:checked~label.sk-toggleable__label {background-color: #d4ebff;}#sk-container-id-3 div.sk-label input.sk-toggleable__control:checked~label.sk-toggleable__label {background-color: #d4ebff;}#sk-container-id-3 input.sk-hidden--visually {border: 0;clip: rect(1px 1px 1px 1px);clip: rect(1px, 1px, 1px, 1px);height: 1px;margin: -1px;overflow: hidden;padding: 0;position: absolute;width: 1px;}#sk-container-id-3 div.sk-estimator {font-family: monospace;background-color: #f0f8ff;border: 1px dotted black;border-radius: 0.25em;box-sizing: border-box;margin-bottom: 0.5em;}#sk-container-id-3 div.sk-estimator:hover {background-color: #d4ebff;}#sk-container-id-3 div.sk-parallel-item::after {content: \"\";width: 100%;border-bottom: 1px solid gray;flex-grow: 1;}#sk-container-id-3 div.sk-label:hover label.sk-toggleable__label {background-color: #d4ebff;}#sk-container-id-3 div.sk-serial::before {content: \"\";position: absolute;border-left: 1px solid gray;box-sizing: border-box;top: 0;bottom: 0;left: 50%;z-index: 0;}#sk-container-id-3 div.sk-serial {display: flex;flex-direction: column;align-items: center;background-color: white;padding-right: 0.2em;padding-left: 0.2em;position: relative;}#sk-container-id-3 div.sk-item {position: relative;z-index: 1;}#sk-container-id-3 div.sk-parallel {display: flex;align-items: stretch;justify-content: center;background-color: white;position: relative;}#sk-container-id-3 div.sk-item::before, #sk-container-id-3 div.sk-parallel-item::before {content: \"\";position: absolute;border-left: 1px solid gray;box-sizing: border-box;top: 0;bottom: 0;left: 50%;z-index: -1;}#sk-container-id-3 div.sk-parallel-item {display: flex;flex-direction: column;z-index: 1;position: relative;background-color: white;}#sk-container-id-3 div.sk-parallel-item:first-child::after {align-self: flex-end;width: 50%;}#sk-container-id-3 div.sk-parallel-item:last-child::after {align-self: flex-start;width: 50%;}#sk-container-id-3 div.sk-parallel-item:only-child::after {width: 0;}#sk-container-id-3 div.sk-dashed-wrapped {border: 1px dashed gray;margin: 0 0.4em 0.5em 0.4em;box-sizing: border-box;padding-bottom: 0.4em;background-color: white;}#sk-container-id-3 div.sk-label label {font-family: monospace;font-weight: bold;display: inline-block;line-height: 1.2em;}#sk-container-id-3 div.sk-label-container {text-align: center;}#sk-container-id-3 div.sk-container {/* jupyter's `normalize.less` sets `[hidden] { display: none; }` but bootstrap.min.css set `[hidden] { display: none !important; }` so we also need the `!important` here to be able to override the default hidden behavior on the sphinx rendered scikit-learn.org. See: https://github.com/scikit-learn/scikit-learn/issues/21755 */display: inline-block !important;position: relative;}#sk-container-id-3 div.sk-text-repr-fallback {display: none;}</style><div id=\"sk-container-id-3\" class=\"sk-top-container\"><div class=\"sk-text-repr-fallback\"><pre>LGBMClassifier(lambda_l1=0.009667446568254372, lambda_l2=0.040186414373018,\n",
       "               max_depth=20, metric=&#x27;multi_logloss&#x27;, min_child_samples=26,\n",
       "               n_estimators=500, num_class=7, objective=&#x27;multiclass&#x27;,\n",
       "               random_state=42, verbosity=-1)</pre><b>In a Jupyter environment, please rerun this cell to show the HTML representation or trust the notebook. <br />On GitHub, the HTML representation is unable to render, please try loading this page with nbviewer.org.</b></div><div class=\"sk-container\" hidden><div class=\"sk-item\"><div class=\"sk-estimator sk-toggleable\"><input class=\"sk-toggleable__control sk-hidden--visually\" id=\"sk-estimator-id-3\" type=\"checkbox\" checked><label for=\"sk-estimator-id-3\" class=\"sk-toggleable__label sk-toggleable__label-arrow\">LGBMClassifier</label><div class=\"sk-toggleable__content\"><pre>LGBMClassifier(lambda_l1=0.009667446568254372, lambda_l2=0.040186414373018,\n",
       "               max_depth=20, metric=&#x27;multi_logloss&#x27;, min_child_samples=26,\n",
       "               n_estimators=500, num_class=7, objective=&#x27;multiclass&#x27;,\n",
       "               random_state=42, verbosity=-1)</pre></div></div></div></div></div>"
      ],
      "text/plain": [
       "LGBMClassifier(lambda_l1=0.009667446568254372, lambda_l2=0.040186414373018,\n",
       "               max_depth=20, metric='multi_logloss', min_child_samples=26,\n",
       "               n_estimators=500, num_class=7, objective='multiclass',\n",
       "               random_state=42, verbosity=-1)"
      ]
     },
     "execution_count": 64,
     "metadata": {},
     "output_type": "execute_result"
    }
   ],
   "source": [
    "best_params = {\n",
    "    \"objective\": \"multiclass\",          # Objective function for the model\n",
    "    \"metric\": \"multi_logloss\",          # Evaluation metric\n",
    "    \"verbosity\": -1,                    # Verbosity level (-1 for silent)\n",
    "    \"boosting_type\": \"gbdt\",            # Gradient boosting type\n",
    "    \"random_state\": 42,       # Random state for reproducibility\n",
    "    \"num_class\": 7,                     # Number of classes in the dataset\n",
    "#     'learning_rate': 0.15,  # Learning rate for gradient boosting\n",
    "    'n_estimators': 500,                # Number of boosting iterations\n",
    "    'lambda_l1': 0.009667446568254372,  # L1 regularization term\n",
    "    'lambda_l2': 0.04018641437301800,   # L2 regularization term\n",
    "    'max_depth': 20,                    # Maximum depth of the trees\n",
    "#     'colsample_bytree': 0.40977129346872643,  # Fraction of features to consider for each tree\n",
    "#     'subsample': 0.9535797422450176,    # Fraction of samples to consider for each boosting iteration\n",
    "    'min_child_samples': 26             # Minimum number of data needed in a leaf\n",
    "}\n",
    "lgbm = LGBMClassifier(**best_params)\n",
    "X_train, X_test, y_train, y_test = train_test_split(df_resampled.drop(['NObeyesdad'],axis = 1),df_resampled['NObeyesdad'], test_size= 0.2)\n",
    "lgbm.fit(X_train,y_train)"
   ]
  },
  {
   "cell_type": "code",
   "execution_count": 65,
   "id": "d827ffc6",
   "metadata": {
    "execution": {
     "iopub.execute_input": "2024-02-21T12:29:08.369235Z",
     "iopub.status.busy": "2024-02-21T12:29:08.368664Z",
     "iopub.status.idle": "2024-02-21T12:29:11.055052Z",
     "shell.execute_reply": "2024-02-21T12:29:11.052803Z"
    },
    "papermill": {
     "duration": 2.746517,
     "end_time": "2024-02-21T12:29:11.058979",
     "exception": false,
     "start_time": "2024-02-21T12:29:08.312462",
     "status": "completed"
    },
    "tags": []
   },
   "outputs": [
    {
     "name": "stdout",
     "output_type": "stream",
     "text": [
      "Accuracy Score:  0.9450918079096046\n",
      "Recall Score:  0.9450918079096046\n",
      "Classification Report: \n",
      "               precision    recall  f1-score   support\n",
      "\n",
      "           0       0.97      0.96      0.97       797\n",
      "           1       0.93      0.92      0.93       773\n",
      "           2       0.94      0.93      0.94       833\n",
      "           3       0.98      0.97      0.98       782\n",
      "           4       1.00      0.99      1.00       831\n",
      "           5       0.90      0.92      0.91       862\n",
      "           6       0.89      0.91      0.90       786\n",
      "\n",
      "    accuracy                           0.95      5664\n",
      "   macro avg       0.95      0.95      0.95      5664\n",
      "weighted avg       0.95      0.95      0.95      5664\n",
      "\n",
      "Confusion Matrix: \n",
      " [[769  28   0   0   0   0   0]\n",
      " [ 20 714   0   0   1  33   5]\n",
      " [  1   1 775  10   1  14  31]\n",
      " [  0   0  15 762   0   0   5]\n",
      " [  1   0   2   2 825   1   0]\n",
      " [  1  20   6   0   0 791  44]\n",
      " [  1   6  24   0   0  38 717]]\n"
     ]
    }
   ],
   "source": [
    "y_pred = np.argmax(lgbm.predict_proba(X_test),axis = 1)\n",
    "print(\"Accuracy Score: \",accuracy_score(y_test,y_pred))\n",
    "print(\"Recall Score: \",recall_score(y_test,y_pred, average='micro'))\n",
    "print(\"Classification Report: \\n\",classification_report(y_test,y_pred))\n",
    "print(\"Confusion Matrix: \\n\",confusion_matrix(y_test,y_pred))"
   ]
  },
  {
   "cell_type": "markdown",
   "id": "e0f52a35",
   "metadata": {
    "papermill": {
     "duration": 0.049894,
     "end_time": "2024-02-21T12:29:11.160761",
     "exception": false,
     "start_time": "2024-02-21T12:29:11.110867",
     "status": "completed"
    },
    "tags": []
   },
   "source": [
    "### 3.6.2 RSCV "
   ]
  },
  {
   "cell_type": "code",
   "execution_count": 66,
   "id": "71ba4f7b",
   "metadata": {
    "execution": {
     "iopub.execute_input": "2024-02-21T12:29:11.265121Z",
     "iopub.status.busy": "2024-02-21T12:29:11.263738Z",
     "iopub.status.idle": "2024-02-21T12:29:11.272274Z",
     "shell.execute_reply": "2024-02-21T12:29:11.270575Z"
    },
    "papermill": {
     "duration": 0.066427,
     "end_time": "2024-02-21T12:29:11.275836",
     "exception": false,
     "start_time": "2024-02-21T12:29:11.209409",
     "status": "completed"
    },
    "tags": []
   },
   "outputs": [],
   "source": [
    "# params = {               # Number of boosting iterations\n",
    "#     'lambda_l1': [0.009667446568254372],  # L1 regularization term\n",
    "#     'lambda_l2': [0.04018641437301800],   # L2 regularization term\n",
    "#     'max_depth': [i for i in range(20,30)],                    # Maximum depth of the trees\n",
    "#     'min_child_samples': [i for i in range(24,28)],\n",
    "#     'objective' : [\"multiclass\"],          # Objective function for the model\n",
    "#     'verbosity' : [-1],                    # Verbosity level (-1 for silent)\n",
    "#     'boosting_type' : [\"gbdt\"],            # Gradient boosting type\n",
    "#     'random_state' : [42],       # Random state for reproducibility\n",
    "#     'num_class' : [7] ,\n",
    "#     'n_estimators': [500], # Minimum number of data needed in a leaf\n",
    "# }"
   ]
  },
  {
   "cell_type": "code",
   "execution_count": 67,
   "id": "438eca6d",
   "metadata": {
    "execution": {
     "iopub.execute_input": "2024-02-21T12:29:11.379382Z",
     "iopub.status.busy": "2024-02-21T12:29:11.378938Z",
     "iopub.status.idle": "2024-02-21T12:29:11.385190Z",
     "shell.execute_reply": "2024-02-21T12:29:11.383142Z"
    },
    "papermill": {
     "duration": 0.061705,
     "end_time": "2024-02-21T12:29:11.388657",
     "exception": false,
     "start_time": "2024-02-21T12:29:11.326952",
     "status": "completed"
    },
    "tags": []
   },
   "outputs": [],
   "source": [
    "# lgbm = LGBMClassifier()"
   ]
  },
  {
   "cell_type": "code",
   "execution_count": 68,
   "id": "184fdbd6",
   "metadata": {
    "execution": {
     "iopub.execute_input": "2024-02-21T12:29:11.490311Z",
     "iopub.status.busy": "2024-02-21T12:29:11.489874Z",
     "iopub.status.idle": "2024-02-21T12:29:11.495551Z",
     "shell.execute_reply": "2024-02-21T12:29:11.493795Z"
    },
    "papermill": {
     "duration": 0.061117,
     "end_time": "2024-02-21T12:29:11.499129",
     "exception": false,
     "start_time": "2024-02-21T12:29:11.438012",
     "status": "completed"
    },
    "tags": []
   },
   "outputs": [],
   "source": [
    "# rscv = GridSearchCV(estimator=lgbm, param_grid=params,cv=2,verbose = 3)\n",
    "# rscv.fit(X_train,y_train)"
   ]
  },
  {
   "cell_type": "code",
   "execution_count": 69,
   "id": "bb15c37b",
   "metadata": {
    "execution": {
     "iopub.execute_input": "2024-02-21T12:29:11.602388Z",
     "iopub.status.busy": "2024-02-21T12:29:11.601925Z",
     "iopub.status.idle": "2024-02-21T12:29:11.610791Z",
     "shell.execute_reply": "2024-02-21T12:29:11.609221Z"
    },
    "papermill": {
     "duration": 0.065161,
     "end_time": "2024-02-21T12:29:11.613973",
     "exception": false,
     "start_time": "2024-02-21T12:29:11.548812",
     "status": "completed"
    },
    "tags": []
   },
   "outputs": [],
   "source": [
    "# best_params_lgbm_rscv = rscv.best_params_\n",
    "# best_lgbm_rscv = rscv.best_estimator_\n",
    "\n",
    "# print(\"\\n\",\"-\"*100,\"\\n\")\n",
    "# print(\"Best Params :\",rscv.best_params_)\n",
    "\n",
    "# print(\"\\n\",\"-\"*100,\"\\n\")\n",
    "# print(\"Best Evaluator :\",rscv.best_estimator_)\n",
    "\n",
    "# print(\"\\n\",\"-\"*100,\"\\n\")\n",
    "# # print(\" - Baseline ROC Area Under Curve of Random Forest:\",roc_auc_score(y_test, best_rf_rscv.predict_proba(X_test)[:,1]))\n",
    "# print(\"\\n - Baseline Accuracy of Random Forest:\",accuracy_score(y_test, best_lgbm_rscv.predict(X_test)))\n",
    "# print(\"\\n - Baseline Conf Matrix of Random Forest:\\n\",confusion_matrix(y_test, best_lgbm_rscv.predict(X_test)))\n",
    "# print(\"\\n - Baseline Classification Report of Random Forest:\\n\",classification_report(y_test, best_lgbm_rscv.predict(X_test)))"
   ]
  },
  {
   "cell_type": "code",
   "execution_count": 70,
   "id": "27326860",
   "metadata": {
    "execution": {
     "iopub.execute_input": "2024-02-21T12:29:11.720740Z",
     "iopub.status.busy": "2024-02-21T12:29:11.720132Z",
     "iopub.status.idle": "2024-02-21T12:29:17.853501Z",
     "shell.execute_reply": "2024-02-21T12:29:17.851956Z"
    },
    "papermill": {
     "duration": 6.191256,
     "end_time": "2024-02-21T12:29:17.856834",
     "exception": false,
     "start_time": "2024-02-21T12:29:11.665578",
     "status": "completed"
    },
    "tags": []
   },
   "outputs": [],
   "source": [
    "y_pred  = lgbm.predict_proba(test_df)"
   ]
  },
  {
   "cell_type": "code",
   "execution_count": 71,
   "id": "f9fb89b8",
   "metadata": {
    "execution": {
     "iopub.execute_input": "2024-02-21T12:29:17.958534Z",
     "iopub.status.busy": "2024-02-21T12:29:17.958028Z",
     "iopub.status.idle": "2024-02-21T12:29:17.966115Z",
     "shell.execute_reply": "2024-02-21T12:29:17.964263Z"
    },
    "papermill": {
     "duration": 0.063343,
     "end_time": "2024-02-21T12:29:17.969932",
     "exception": false,
     "start_time": "2024-02-21T12:29:17.906589",
     "status": "completed"
    },
    "tags": []
   },
   "outputs": [],
   "source": [
    "y_pred = np.argmax(y_pred,axis = 1)"
   ]
  },
  {
   "cell_type": "code",
   "execution_count": 72,
   "id": "30a88b61",
   "metadata": {
    "execution": {
     "iopub.execute_input": "2024-02-21T12:29:18.071996Z",
     "iopub.status.busy": "2024-02-21T12:29:18.071430Z",
     "iopub.status.idle": "2024-02-21T12:29:18.116311Z",
     "shell.execute_reply": "2024-02-21T12:29:18.114825Z"
    },
    "papermill": {
     "duration": 0.099746,
     "end_time": "2024-02-21T12:29:18.120034",
     "exception": false,
     "start_time": "2024-02-21T12:29:18.020288",
     "status": "completed"
    },
    "tags": []
   },
   "outputs": [],
   "source": [
    "test_y_pred = le.inverse_transform(y_pred)\n",
    "sub = pd.DataFrame({'id':test_id,'NObeyesdad':test_y_pred})\n",
    "sub.to_csv('submission.csv', index=False,header = True)"
   ]
  },
  {
   "cell_type": "code",
   "execution_count": 73,
   "id": "ce2cf788",
   "metadata": {
    "execution": {
     "iopub.execute_input": "2024-02-21T12:29:18.223545Z",
     "iopub.status.busy": "2024-02-21T12:29:18.223071Z",
     "iopub.status.idle": "2024-02-21T12:29:18.234010Z",
     "shell.execute_reply": "2024-02-21T12:29:18.232082Z"
    },
    "papermill": {
     "duration": 0.066631,
     "end_time": "2024-02-21T12:29:18.236988",
     "exception": false,
     "start_time": "2024-02-21T12:29:18.170357",
     "status": "completed"
    },
    "tags": []
   },
   "outputs": [
    {
     "data": {
      "text/html": [
       "<a href='submission.csv' target='_blank'>submission.csv</a><br>"
      ],
      "text/plain": [
       "/kaggle/working/submission.csv"
      ]
     },
     "execution_count": 73,
     "metadata": {},
     "output_type": "execute_result"
    }
   ],
   "source": [
    "from IPython.display import FileLink\n",
    "FileLink('submission.csv')"
   ]
  },
  {
   "cell_type": "code",
   "execution_count": null,
   "id": "c60fa8c8",
   "metadata": {
    "papermill": {
     "duration": 0.053512,
     "end_time": "2024-02-21T12:29:18.343854",
     "exception": false,
     "start_time": "2024-02-21T12:29:18.290342",
     "status": "completed"
    },
    "tags": []
   },
   "outputs": [],
   "source": []
  },
  {
   "cell_type": "markdown",
   "id": "f55d6e07",
   "metadata": {
    "papermill": {
     "duration": 0.066103,
     "end_time": "2024-02-21T12:29:18.483025",
     "exception": false,
     "start_time": "2024-02-21T12:29:18.416922",
     "status": "completed"
    },
    "tags": []
   },
   "source": [
    "## 3.7 Ensembling of RF, XGB, LGBM"
   ]
  },
  {
   "cell_type": "code",
   "execution_count": 74,
   "id": "33c27867",
   "metadata": {
    "execution": {
     "iopub.execute_input": "2024-02-21T12:29:18.589938Z",
     "iopub.status.busy": "2024-02-21T12:29:18.589029Z",
     "iopub.status.idle": "2024-02-21T12:29:32.681796Z",
     "shell.execute_reply": "2024-02-21T12:29:32.679774Z"
    },
    "papermill": {
     "duration": 14.151956,
     "end_time": "2024-02-21T12:29:32.685530",
     "exception": false,
     "start_time": "2024-02-21T12:29:18.533574",
     "status": "completed"
    },
    "tags": []
   },
   "outputs": [],
   "source": [
    "rf_train_pred = ovr.predict_proba(X_train)\n",
    "xgb_train_pred = xgb.predict_proba(X_train)\n",
    "lgbm_train_pred = lgbm.predict_proba(X_train)\n",
    "X_ensem = np.concatenate([rf_train_pred,xgb_train_pred,lgbm_train_pred],axis = 1)"
   ]
  },
  {
   "cell_type": "code",
   "execution_count": 75,
   "id": "23087c9d",
   "metadata": {
    "execution": {
     "iopub.execute_input": "2024-02-21T12:29:32.790646Z",
     "iopub.status.busy": "2024-02-21T12:29:32.790192Z",
     "iopub.status.idle": "2024-02-21T12:29:36.314570Z",
     "shell.execute_reply": "2024-02-21T12:29:36.313055Z"
    },
    "papermill": {
     "duration": 3.580585,
     "end_time": "2024-02-21T12:29:36.318753",
     "exception": false,
     "start_time": "2024-02-21T12:29:32.738168",
     "status": "completed"
    },
    "tags": []
   },
   "outputs": [],
   "source": [
    "rf_test_pred = ovr.predict_proba(X_test)\n",
    "xgb_test_pred = xgb.predict_proba(X_test)\n",
    "lgbm_test_pred = lgbm.predict_proba(X_test)\n",
    "X_test_ensem = np.concatenate([rf_test_pred,xgb_test_pred,lgbm_test_pred],axis = 1)"
   ]
  },
  {
   "cell_type": "code",
   "execution_count": 76,
   "id": "c44a2b27",
   "metadata": {
    "execution": {
     "iopub.execute_input": "2024-02-21T12:29:36.422942Z",
     "iopub.status.busy": "2024-02-21T12:29:36.422062Z",
     "iopub.status.idle": "2024-02-21T12:29:37.160411Z",
     "shell.execute_reply": "2024-02-21T12:29:37.159174Z"
    },
    "papermill": {
     "duration": 0.795707,
     "end_time": "2024-02-21T12:29:37.164608",
     "exception": false,
     "start_time": "2024-02-21T12:29:36.368901",
     "status": "completed"
    },
    "tags": []
   },
   "outputs": [
    {
     "data": {
      "text/html": [
       "<style>#sk-container-id-4 {color: black;background-color: white;}#sk-container-id-4 pre{padding: 0;}#sk-container-id-4 div.sk-toggleable {background-color: white;}#sk-container-id-4 label.sk-toggleable__label {cursor: pointer;display: block;width: 100%;margin-bottom: 0;padding: 0.3em;box-sizing: border-box;text-align: center;}#sk-container-id-4 label.sk-toggleable__label-arrow:before {content: \"▸\";float: left;margin-right: 0.25em;color: #696969;}#sk-container-id-4 label.sk-toggleable__label-arrow:hover:before {color: black;}#sk-container-id-4 div.sk-estimator:hover label.sk-toggleable__label-arrow:before {color: black;}#sk-container-id-4 div.sk-toggleable__content {max-height: 0;max-width: 0;overflow: hidden;text-align: left;background-color: #f0f8ff;}#sk-container-id-4 div.sk-toggleable__content pre {margin: 0.2em;color: black;border-radius: 0.25em;background-color: #f0f8ff;}#sk-container-id-4 input.sk-toggleable__control:checked~div.sk-toggleable__content {max-height: 200px;max-width: 100%;overflow: auto;}#sk-container-id-4 input.sk-toggleable__control:checked~label.sk-toggleable__label-arrow:before {content: \"▾\";}#sk-container-id-4 div.sk-estimator input.sk-toggleable__control:checked~label.sk-toggleable__label {background-color: #d4ebff;}#sk-container-id-4 div.sk-label input.sk-toggleable__control:checked~label.sk-toggleable__label {background-color: #d4ebff;}#sk-container-id-4 input.sk-hidden--visually {border: 0;clip: rect(1px 1px 1px 1px);clip: rect(1px, 1px, 1px, 1px);height: 1px;margin: -1px;overflow: hidden;padding: 0;position: absolute;width: 1px;}#sk-container-id-4 div.sk-estimator {font-family: monospace;background-color: #f0f8ff;border: 1px dotted black;border-radius: 0.25em;box-sizing: border-box;margin-bottom: 0.5em;}#sk-container-id-4 div.sk-estimator:hover {background-color: #d4ebff;}#sk-container-id-4 div.sk-parallel-item::after {content: \"\";width: 100%;border-bottom: 1px solid gray;flex-grow: 1;}#sk-container-id-4 div.sk-label:hover label.sk-toggleable__label {background-color: #d4ebff;}#sk-container-id-4 div.sk-serial::before {content: \"\";position: absolute;border-left: 1px solid gray;box-sizing: border-box;top: 0;bottom: 0;left: 50%;z-index: 0;}#sk-container-id-4 div.sk-serial {display: flex;flex-direction: column;align-items: center;background-color: white;padding-right: 0.2em;padding-left: 0.2em;position: relative;}#sk-container-id-4 div.sk-item {position: relative;z-index: 1;}#sk-container-id-4 div.sk-parallel {display: flex;align-items: stretch;justify-content: center;background-color: white;position: relative;}#sk-container-id-4 div.sk-item::before, #sk-container-id-4 div.sk-parallel-item::before {content: \"\";position: absolute;border-left: 1px solid gray;box-sizing: border-box;top: 0;bottom: 0;left: 50%;z-index: -1;}#sk-container-id-4 div.sk-parallel-item {display: flex;flex-direction: column;z-index: 1;position: relative;background-color: white;}#sk-container-id-4 div.sk-parallel-item:first-child::after {align-self: flex-end;width: 50%;}#sk-container-id-4 div.sk-parallel-item:last-child::after {align-self: flex-start;width: 50%;}#sk-container-id-4 div.sk-parallel-item:only-child::after {width: 0;}#sk-container-id-4 div.sk-dashed-wrapped {border: 1px dashed gray;margin: 0 0.4em 0.5em 0.4em;box-sizing: border-box;padding-bottom: 0.4em;background-color: white;}#sk-container-id-4 div.sk-label label {font-family: monospace;font-weight: bold;display: inline-block;line-height: 1.2em;}#sk-container-id-4 div.sk-label-container {text-align: center;}#sk-container-id-4 div.sk-container {/* jupyter's `normalize.less` sets `[hidden] { display: none; }` but bootstrap.min.css set `[hidden] { display: none !important; }` so we also need the `!important` here to be able to override the default hidden behavior on the sphinx rendered scikit-learn.org. See: https://github.com/scikit-learn/scikit-learn/issues/21755 */display: inline-block !important;position: relative;}#sk-container-id-4 div.sk-text-repr-fallback {display: none;}</style><div id=\"sk-container-id-4\" class=\"sk-top-container\"><div class=\"sk-text-repr-fallback\"><pre>OneVsRestClassifier(estimator=LogisticRegression())</pre><b>In a Jupyter environment, please rerun this cell to show the HTML representation or trust the notebook. <br />On GitHub, the HTML representation is unable to render, please try loading this page with nbviewer.org.</b></div><div class=\"sk-container\" hidden><div class=\"sk-item sk-dashed-wrapped\"><div class=\"sk-label-container\"><div class=\"sk-label sk-toggleable\"><input class=\"sk-toggleable__control sk-hidden--visually\" id=\"sk-estimator-id-4\" type=\"checkbox\" ><label for=\"sk-estimator-id-4\" class=\"sk-toggleable__label sk-toggleable__label-arrow\">OneVsRestClassifier</label><div class=\"sk-toggleable__content\"><pre>OneVsRestClassifier(estimator=LogisticRegression())</pre></div></div></div><div class=\"sk-parallel\"><div class=\"sk-parallel-item\"><div class=\"sk-item\"><div class=\"sk-label-container\"><div class=\"sk-label sk-toggleable\"><input class=\"sk-toggleable__control sk-hidden--visually\" id=\"sk-estimator-id-5\" type=\"checkbox\" ><label for=\"sk-estimator-id-5\" class=\"sk-toggleable__label sk-toggleable__label-arrow\">estimator: LogisticRegression</label><div class=\"sk-toggleable__content\"><pre>LogisticRegression()</pre></div></div></div><div class=\"sk-serial\"><div class=\"sk-item\"><div class=\"sk-estimator sk-toggleable\"><input class=\"sk-toggleable__control sk-hidden--visually\" id=\"sk-estimator-id-6\" type=\"checkbox\" ><label for=\"sk-estimator-id-6\" class=\"sk-toggleable__label sk-toggleable__label-arrow\">LogisticRegression</label><div class=\"sk-toggleable__content\"><pre>LogisticRegression()</pre></div></div></div></div></div></div></div></div></div></div>"
      ],
      "text/plain": [
       "OneVsRestClassifier(estimator=LogisticRegression())"
      ]
     },
     "execution_count": 76,
     "metadata": {},
     "output_type": "execute_result"
    }
   ],
   "source": [
    "elr = OneVsRestClassifier(LogisticRegression())\n",
    "elr.fit(X_ensem,y_train)"
   ]
  },
  {
   "cell_type": "code",
   "execution_count": 77,
   "id": "875280b5",
   "metadata": {
    "execution": {
     "iopub.execute_input": "2024-02-21T12:29:37.328567Z",
     "iopub.status.busy": "2024-02-21T12:29:37.328139Z",
     "iopub.status.idle": "2024-02-21T12:29:37.408855Z",
     "shell.execute_reply": "2024-02-21T12:29:37.407491Z"
    },
    "papermill": {
     "duration": 0.141681,
     "end_time": "2024-02-21T12:29:37.416126",
     "exception": false,
     "start_time": "2024-02-21T12:29:37.274445",
     "status": "completed"
    },
    "tags": []
   },
   "outputs": [
    {
     "name": "stdout",
     "output_type": "stream",
     "text": [
      "Accuracy Score:  0.9585098870056498\n",
      "Recall Score:  0.9585098870056498\n",
      "Classification Report: \n",
      "               precision    recall  f1-score   support\n",
      "\n",
      "           0       0.98      0.97      0.98       797\n",
      "           1       0.95      0.94      0.94       773\n",
      "           2       0.96      0.95      0.95       833\n",
      "           3       0.99      0.98      0.98       782\n",
      "           4       1.00      1.00      1.00       831\n",
      "           5       0.93      0.93      0.93       862\n",
      "           6       0.91      0.94      0.92       786\n",
      "\n",
      "    accuracy                           0.96      5664\n",
      "   macro avg       0.96      0.96      0.96      5664\n",
      "weighted avg       0.96      0.96      0.96      5664\n",
      "\n",
      "Confusion Matrix: \n",
      " [[776  21   0   0   0   0   0]\n",
      " [ 13 729   0   0   0  26   5]\n",
      " [  1   0 789   8   1   9  25]\n",
      " [  0   0  10 768   0   0   4]\n",
      " [  1   0   1   2 827   0   0]\n",
      " [  1  17   2   0   0 805  37]\n",
      " [  1   3  21   0   0  26 735]]\n"
     ]
    }
   ],
   "source": [
    "y_pred = elr.predict(X_test_ensem)\n",
    "print(\"Accuracy Score: \",accuracy_score(y_test,y_pred))\n",
    "print(\"Recall Score: \",recall_score(y_test,y_pred, average='micro'))\n",
    "print(\"Classification Report: \\n\",classification_report(y_test,y_pred))\n",
    "print(\"Confusion Matrix: \\n\",confusion_matrix(y_test,y_pred))"
   ]
  },
  {
   "cell_type": "code",
   "execution_count": 78,
   "id": "c9dd9066",
   "metadata": {
    "execution": {
     "iopub.execute_input": "2024-02-21T12:29:37.540794Z",
     "iopub.status.busy": "2024-02-21T12:29:37.540296Z",
     "iopub.status.idle": "2024-02-21T12:29:46.102913Z",
     "shell.execute_reply": "2024-02-21T12:29:46.100732Z"
    },
    "papermill": {
     "duration": 8.617537,
     "end_time": "2024-02-21T12:29:46.105905",
     "exception": false,
     "start_time": "2024-02-21T12:29:37.488368",
     "status": "completed"
    },
    "tags": []
   },
   "outputs": [],
   "source": [
    "rf_testdf_pred = ovr.predict_proba(test_df)\n",
    "xgb_testdf_pred = xgb.predict_proba(test_df)\n",
    "lgbm_testdf_pred = lgbm.predict_proba(test_df)\n",
    "X_testdf_ensem = np.concatenate([rf_testdf_pred,xgb_testdf_pred,lgbm_testdf_pred],axis = 1)"
   ]
  },
  {
   "cell_type": "code",
   "execution_count": 79,
   "id": "81265609",
   "metadata": {
    "execution": {
     "iopub.execute_input": "2024-02-21T12:29:46.211090Z",
     "iopub.status.busy": "2024-02-21T12:29:46.210576Z",
     "iopub.status.idle": "2024-02-21T12:29:46.311229Z",
     "shell.execute_reply": "2024-02-21T12:29:46.309020Z"
    },
    "papermill": {
     "duration": 0.161041,
     "end_time": "2024-02-21T12:29:46.316509",
     "exception": false,
     "start_time": "2024-02-21T12:29:46.155468",
     "status": "completed"
    },
    "tags": []
   },
   "outputs": [],
   "source": [
    "y_pred = elr.predict(X_testdf_ensem)\n",
    "test_y_pred = le.inverse_transform(y_pred)\n",
    "sub = pd.DataFrame({'id':test_id,'NObeyesdad':test_y_pred})\n",
    "sub.to_csv('submission.csv', index=False,header = True)"
   ]
  },
  {
   "cell_type": "code",
   "execution_count": 80,
   "id": "b9597c4e",
   "metadata": {
    "execution": {
     "iopub.execute_input": "2024-02-21T12:29:46.445091Z",
     "iopub.status.busy": "2024-02-21T12:29:46.444528Z",
     "iopub.status.idle": "2024-02-21T12:29:46.454664Z",
     "shell.execute_reply": "2024-02-21T12:29:46.452812Z"
    },
    "papermill": {
     "duration": 0.068016,
     "end_time": "2024-02-21T12:29:46.459537",
     "exception": false,
     "start_time": "2024-02-21T12:29:46.391521",
     "status": "completed"
    },
    "tags": []
   },
   "outputs": [
    {
     "data": {
      "text/html": [
       "<a href='submission.csv' target='_blank'>submission.csv</a><br>"
      ],
      "text/plain": [
       "/kaggle/working/submission.csv"
      ]
     },
     "execution_count": 80,
     "metadata": {},
     "output_type": "execute_result"
    }
   ],
   "source": [
    "from IPython.display import FileLink\n",
    "FileLink('submission.csv')"
   ]
  },
  {
   "cell_type": "markdown",
   "id": "709403e1",
   "metadata": {
    "papermill": {
     "duration": 0.052445,
     "end_time": "2024-02-21T12:29:46.564250",
     "exception": false,
     "start_time": "2024-02-21T12:29:46.511805",
     "status": "completed"
    },
    "tags": []
   },
   "source": [
    "Got Around 0.906"
   ]
  }
 ],
 "metadata": {
  "kaggle": {
   "accelerator": "none",
   "dataSources": [
    {
     "databundleVersionId": 7609535,
     "sourceId": 68479,
     "sourceType": "competition"
    }
   ],
   "dockerImageVersionId": 30646,
   "isGpuEnabled": false,
   "isInternetEnabled": true,
   "language": "python",
   "sourceType": "notebook"
  },
  "kernelspec": {
   "display_name": "Python 3",
   "language": "python",
   "name": "python3"
  },
  "language_info": {
   "codemirror_mode": {
    "name": "ipython",
    "version": 3
   },
   "file_extension": ".py",
   "mimetype": "text/x-python",
   "name": "python",
   "nbconvert_exporter": "python",
   "pygments_lexer": "ipython3",
   "version": "3.10.13"
  },
  "papermill": {
   "default_parameters": {},
   "duration": 177.76699,
   "end_time": "2024-02-21T12:29:47.942524",
   "environment_variables": {},
   "exception": null,
   "input_path": "__notebook__.ipynb",
   "output_path": "__notebook__.ipynb",
   "parameters": {},
   "start_time": "2024-02-21T12:26:50.175534",
   "version": "2.5.0"
  }
 },
 "nbformat": 4,
 "nbformat_minor": 5
}
